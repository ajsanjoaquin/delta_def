{
  "nbformat": 4,
  "nbformat_minor": 0,
  "metadata": {
    "colab": {
      "provenance": [],
      "collapsed_sections": [
        "wX4stkG3YT54",
        "GNKukLHfxJ-4",
        "JNcsbFHD2iTT",
        "EWxXGMv4Ysg5",
        "XhufpgywtJsY",
        "pC220wjYxVAL",
        "RwgnF40O-oQL"
      ]
    },
    "kernelspec": {
      "name": "python3",
      "display_name": "Python 3"
    },
    "language_info": {
      "name": "python"
    },
    "gpuClass": "standard",
    "widgets": {
      "application/vnd.jupyter.widget-state+json": {
        "e3276ce7ab154341a6e0ad129fd3137e": {
          "model_module": "@jupyter-widgets/controls",
          "model_name": "HBoxModel",
          "model_module_version": "1.5.0",
          "state": {
            "_dom_classes": [],
            "_model_module": "@jupyter-widgets/controls",
            "_model_module_version": "1.5.0",
            "_model_name": "HBoxModel",
            "_view_count": null,
            "_view_module": "@jupyter-widgets/controls",
            "_view_module_version": "1.5.0",
            "_view_name": "HBoxView",
            "box_style": "",
            "children": [
              "IPY_MODEL_69c1661dbe88445cbd7fcb3e16dd389c",
              "IPY_MODEL_8375a27a9c3f45dda54eea4b715233a1",
              "IPY_MODEL_4adb265199494dd7bd8e0fb596490d1f"
            ],
            "layout": "IPY_MODEL_927ab44d22a7463aba11b86430fe63fb"
          }
        },
        "69c1661dbe88445cbd7fcb3e16dd389c": {
          "model_module": "@jupyter-widgets/controls",
          "model_name": "HTMLModel",
          "model_module_version": "1.5.0",
          "state": {
            "_dom_classes": [],
            "_model_module": "@jupyter-widgets/controls",
            "_model_module_version": "1.5.0",
            "_model_name": "HTMLModel",
            "_view_count": null,
            "_view_module": "@jupyter-widgets/controls",
            "_view_module_version": "1.5.0",
            "_view_name": "HTMLView",
            "description": "",
            "description_tooltip": null,
            "layout": "IPY_MODEL_07f11f4bd7e343d2be72e5026c728f6a",
            "placeholder": "​",
            "style": "IPY_MODEL_ec331dbcabeb4c2999a87f57049e8982",
            "value": "  8%"
          }
        },
        "8375a27a9c3f45dda54eea4b715233a1": {
          "model_module": "@jupyter-widgets/controls",
          "model_name": "FloatProgressModel",
          "model_module_version": "1.5.0",
          "state": {
            "_dom_classes": [],
            "_model_module": "@jupyter-widgets/controls",
            "_model_module_version": "1.5.0",
            "_model_name": "FloatProgressModel",
            "_view_count": null,
            "_view_module": "@jupyter-widgets/controls",
            "_view_module_version": "1.5.0",
            "_view_name": "ProgressView",
            "bar_style": "danger",
            "description": "",
            "description_tooltip": null,
            "layout": "IPY_MODEL_e37aadbc53dd4fc1bd3b8c820ff84e53",
            "max": 6284,
            "min": 0,
            "orientation": "horizontal",
            "style": "IPY_MODEL_34147121bf064818a3e461035b1db90e",
            "value": 492
          }
        },
        "4adb265199494dd7bd8e0fb596490d1f": {
          "model_module": "@jupyter-widgets/controls",
          "model_name": "HTMLModel",
          "model_module_version": "1.5.0",
          "state": {
            "_dom_classes": [],
            "_model_module": "@jupyter-widgets/controls",
            "_model_module_version": "1.5.0",
            "_model_name": "HTMLModel",
            "_view_count": null,
            "_view_module": "@jupyter-widgets/controls",
            "_view_module_version": "1.5.0",
            "_view_name": "HTMLView",
            "description": "",
            "description_tooltip": null,
            "layout": "IPY_MODEL_5ddcfffe85e24628849b877b928866c7",
            "placeholder": "​",
            "style": "IPY_MODEL_941438cf59ae4831b52b9363d620daed",
            "value": " 492/6284 [00:07&lt;01:29, 64.48it/s]"
          }
        },
        "927ab44d22a7463aba11b86430fe63fb": {
          "model_module": "@jupyter-widgets/base",
          "model_name": "LayoutModel",
          "model_module_version": "1.2.0",
          "state": {
            "_model_module": "@jupyter-widgets/base",
            "_model_module_version": "1.2.0",
            "_model_name": "LayoutModel",
            "_view_count": null,
            "_view_module": "@jupyter-widgets/base",
            "_view_module_version": "1.2.0",
            "_view_name": "LayoutView",
            "align_content": null,
            "align_items": null,
            "align_self": null,
            "border": null,
            "bottom": null,
            "display": null,
            "flex": null,
            "flex_flow": null,
            "grid_area": null,
            "grid_auto_columns": null,
            "grid_auto_flow": null,
            "grid_auto_rows": null,
            "grid_column": null,
            "grid_gap": null,
            "grid_row": null,
            "grid_template_areas": null,
            "grid_template_columns": null,
            "grid_template_rows": null,
            "height": null,
            "justify_content": null,
            "justify_items": null,
            "left": null,
            "margin": null,
            "max_height": null,
            "max_width": null,
            "min_height": null,
            "min_width": null,
            "object_fit": null,
            "object_position": null,
            "order": null,
            "overflow": null,
            "overflow_x": null,
            "overflow_y": null,
            "padding": null,
            "right": null,
            "top": null,
            "visibility": null,
            "width": null
          }
        },
        "07f11f4bd7e343d2be72e5026c728f6a": {
          "model_module": "@jupyter-widgets/base",
          "model_name": "LayoutModel",
          "model_module_version": "1.2.0",
          "state": {
            "_model_module": "@jupyter-widgets/base",
            "_model_module_version": "1.2.0",
            "_model_name": "LayoutModel",
            "_view_count": null,
            "_view_module": "@jupyter-widgets/base",
            "_view_module_version": "1.2.0",
            "_view_name": "LayoutView",
            "align_content": null,
            "align_items": null,
            "align_self": null,
            "border": null,
            "bottom": null,
            "display": null,
            "flex": null,
            "flex_flow": null,
            "grid_area": null,
            "grid_auto_columns": null,
            "grid_auto_flow": null,
            "grid_auto_rows": null,
            "grid_column": null,
            "grid_gap": null,
            "grid_row": null,
            "grid_template_areas": null,
            "grid_template_columns": null,
            "grid_template_rows": null,
            "height": null,
            "justify_content": null,
            "justify_items": null,
            "left": null,
            "margin": null,
            "max_height": null,
            "max_width": null,
            "min_height": null,
            "min_width": null,
            "object_fit": null,
            "object_position": null,
            "order": null,
            "overflow": null,
            "overflow_x": null,
            "overflow_y": null,
            "padding": null,
            "right": null,
            "top": null,
            "visibility": null,
            "width": null
          }
        },
        "ec331dbcabeb4c2999a87f57049e8982": {
          "model_module": "@jupyter-widgets/controls",
          "model_name": "DescriptionStyleModel",
          "model_module_version": "1.5.0",
          "state": {
            "_model_module": "@jupyter-widgets/controls",
            "_model_module_version": "1.5.0",
            "_model_name": "DescriptionStyleModel",
            "_view_count": null,
            "_view_module": "@jupyter-widgets/base",
            "_view_module_version": "1.2.0",
            "_view_name": "StyleView",
            "description_width": ""
          }
        },
        "e37aadbc53dd4fc1bd3b8c820ff84e53": {
          "model_module": "@jupyter-widgets/base",
          "model_name": "LayoutModel",
          "model_module_version": "1.2.0",
          "state": {
            "_model_module": "@jupyter-widgets/base",
            "_model_module_version": "1.2.0",
            "_model_name": "LayoutModel",
            "_view_count": null,
            "_view_module": "@jupyter-widgets/base",
            "_view_module_version": "1.2.0",
            "_view_name": "LayoutView",
            "align_content": null,
            "align_items": null,
            "align_self": null,
            "border": null,
            "bottom": null,
            "display": null,
            "flex": null,
            "flex_flow": null,
            "grid_area": null,
            "grid_auto_columns": null,
            "grid_auto_flow": null,
            "grid_auto_rows": null,
            "grid_column": null,
            "grid_gap": null,
            "grid_row": null,
            "grid_template_areas": null,
            "grid_template_columns": null,
            "grid_template_rows": null,
            "height": null,
            "justify_content": null,
            "justify_items": null,
            "left": null,
            "margin": null,
            "max_height": null,
            "max_width": null,
            "min_height": null,
            "min_width": null,
            "object_fit": null,
            "object_position": null,
            "order": null,
            "overflow": null,
            "overflow_x": null,
            "overflow_y": null,
            "padding": null,
            "right": null,
            "top": null,
            "visibility": null,
            "width": null
          }
        },
        "34147121bf064818a3e461035b1db90e": {
          "model_module": "@jupyter-widgets/controls",
          "model_name": "ProgressStyleModel",
          "model_module_version": "1.5.0",
          "state": {
            "_model_module": "@jupyter-widgets/controls",
            "_model_module_version": "1.5.0",
            "_model_name": "ProgressStyleModel",
            "_view_count": null,
            "_view_module": "@jupyter-widgets/base",
            "_view_module_version": "1.2.0",
            "_view_name": "StyleView",
            "bar_color": null,
            "description_width": ""
          }
        },
        "5ddcfffe85e24628849b877b928866c7": {
          "model_module": "@jupyter-widgets/base",
          "model_name": "LayoutModel",
          "model_module_version": "1.2.0",
          "state": {
            "_model_module": "@jupyter-widgets/base",
            "_model_module_version": "1.2.0",
            "_model_name": "LayoutModel",
            "_view_count": null,
            "_view_module": "@jupyter-widgets/base",
            "_view_module_version": "1.2.0",
            "_view_name": "LayoutView",
            "align_content": null,
            "align_items": null,
            "align_self": null,
            "border": null,
            "bottom": null,
            "display": null,
            "flex": null,
            "flex_flow": null,
            "grid_area": null,
            "grid_auto_columns": null,
            "grid_auto_flow": null,
            "grid_auto_rows": null,
            "grid_column": null,
            "grid_gap": null,
            "grid_row": null,
            "grid_template_areas": null,
            "grid_template_columns": null,
            "grid_template_rows": null,
            "height": null,
            "justify_content": null,
            "justify_items": null,
            "left": null,
            "margin": null,
            "max_height": null,
            "max_width": null,
            "min_height": null,
            "min_width": null,
            "object_fit": null,
            "object_position": null,
            "order": null,
            "overflow": null,
            "overflow_x": null,
            "overflow_y": null,
            "padding": null,
            "right": null,
            "top": null,
            "visibility": null,
            "width": null
          }
        },
        "941438cf59ae4831b52b9363d620daed": {
          "model_module": "@jupyter-widgets/controls",
          "model_name": "DescriptionStyleModel",
          "model_module_version": "1.5.0",
          "state": {
            "_model_module": "@jupyter-widgets/controls",
            "_model_module_version": "1.5.0",
            "_model_name": "DescriptionStyleModel",
            "_view_count": null,
            "_view_module": "@jupyter-widgets/base",
            "_view_module_version": "1.2.0",
            "_view_name": "StyleView",
            "description_width": ""
          }
        },
        "1883fff8c5be4e6e94d4953c85ffff47": {
          "model_module": "@jupyter-widgets/controls",
          "model_name": "HBoxModel",
          "model_module_version": "1.5.0",
          "state": {
            "_dom_classes": [],
            "_model_module": "@jupyter-widgets/controls",
            "_model_module_version": "1.5.0",
            "_model_name": "HBoxModel",
            "_view_count": null,
            "_view_module": "@jupyter-widgets/controls",
            "_view_module_version": "1.5.0",
            "_view_name": "HBoxView",
            "box_style": "",
            "children": [
              "IPY_MODEL_f9b517c328884a55bf59c03c7cda434d",
              "IPY_MODEL_a8c44a3a79b943ce950aeb8ca2471b9c",
              "IPY_MODEL_63e765a82b2e409586d237b24532895e"
            ],
            "layout": "IPY_MODEL_18b5a5b8d3a449049c5d16e7765c97d9"
          }
        },
        "f9b517c328884a55bf59c03c7cda434d": {
          "model_module": "@jupyter-widgets/controls",
          "model_name": "HTMLModel",
          "model_module_version": "1.5.0",
          "state": {
            "_dom_classes": [],
            "_model_module": "@jupyter-widgets/controls",
            "_model_module_version": "1.5.0",
            "_model_name": "HTMLModel",
            "_view_count": null,
            "_view_module": "@jupyter-widgets/controls",
            "_view_module_version": "1.5.0",
            "_view_name": "HTMLView",
            "description": "",
            "description_tooltip": null,
            "layout": "IPY_MODEL_a51e7d33b2e04c439af7a5c62fd1b4d5",
            "placeholder": "​",
            "style": "IPY_MODEL_590f22d6997f4856b9574b772e78a484",
            "value": "  0%"
          }
        },
        "a8c44a3a79b943ce950aeb8ca2471b9c": {
          "model_module": "@jupyter-widgets/controls",
          "model_name": "FloatProgressModel",
          "model_module_version": "1.5.0",
          "state": {
            "_dom_classes": [],
            "_model_module": "@jupyter-widgets/controls",
            "_model_module_version": "1.5.0",
            "_model_name": "FloatProgressModel",
            "_view_count": null,
            "_view_module": "@jupyter-widgets/controls",
            "_view_module_version": "1.5.0",
            "_view_name": "ProgressView",
            "bar_style": "danger",
            "description": "",
            "description_tooltip": null,
            "layout": "IPY_MODEL_5ba9bb7def3348df8674592ef4ba122b",
            "max": 6284,
            "min": 0,
            "orientation": "horizontal",
            "style": "IPY_MODEL_e43684534c684d0392dd34e16cd8cec1",
            "value": 0
          }
        },
        "63e765a82b2e409586d237b24532895e": {
          "model_module": "@jupyter-widgets/controls",
          "model_name": "HTMLModel",
          "model_module_version": "1.5.0",
          "state": {
            "_dom_classes": [],
            "_model_module": "@jupyter-widgets/controls",
            "_model_module_version": "1.5.0",
            "_model_name": "HTMLModel",
            "_view_count": null,
            "_view_module": "@jupyter-widgets/controls",
            "_view_module_version": "1.5.0",
            "_view_name": "HTMLView",
            "description": "",
            "description_tooltip": null,
            "layout": "IPY_MODEL_fe0666380902449f9d8020f1adc89224",
            "placeholder": "​",
            "style": "IPY_MODEL_d8b311ff1e3240758dfdea631f3125fc",
            "value": " 0/6284 [00:00&lt;?, ?it/s]"
          }
        },
        "18b5a5b8d3a449049c5d16e7765c97d9": {
          "model_module": "@jupyter-widgets/base",
          "model_name": "LayoutModel",
          "model_module_version": "1.2.0",
          "state": {
            "_model_module": "@jupyter-widgets/base",
            "_model_module_version": "1.2.0",
            "_model_name": "LayoutModel",
            "_view_count": null,
            "_view_module": "@jupyter-widgets/base",
            "_view_module_version": "1.2.0",
            "_view_name": "LayoutView",
            "align_content": null,
            "align_items": null,
            "align_self": null,
            "border": null,
            "bottom": null,
            "display": null,
            "flex": null,
            "flex_flow": null,
            "grid_area": null,
            "grid_auto_columns": null,
            "grid_auto_flow": null,
            "grid_auto_rows": null,
            "grid_column": null,
            "grid_gap": null,
            "grid_row": null,
            "grid_template_areas": null,
            "grid_template_columns": null,
            "grid_template_rows": null,
            "height": null,
            "justify_content": null,
            "justify_items": null,
            "left": null,
            "margin": null,
            "max_height": null,
            "max_width": null,
            "min_height": null,
            "min_width": null,
            "object_fit": null,
            "object_position": null,
            "order": null,
            "overflow": null,
            "overflow_x": null,
            "overflow_y": null,
            "padding": null,
            "right": null,
            "top": null,
            "visibility": null,
            "width": null
          }
        },
        "a51e7d33b2e04c439af7a5c62fd1b4d5": {
          "model_module": "@jupyter-widgets/base",
          "model_name": "LayoutModel",
          "model_module_version": "1.2.0",
          "state": {
            "_model_module": "@jupyter-widgets/base",
            "_model_module_version": "1.2.0",
            "_model_name": "LayoutModel",
            "_view_count": null,
            "_view_module": "@jupyter-widgets/base",
            "_view_module_version": "1.2.0",
            "_view_name": "LayoutView",
            "align_content": null,
            "align_items": null,
            "align_self": null,
            "border": null,
            "bottom": null,
            "display": null,
            "flex": null,
            "flex_flow": null,
            "grid_area": null,
            "grid_auto_columns": null,
            "grid_auto_flow": null,
            "grid_auto_rows": null,
            "grid_column": null,
            "grid_gap": null,
            "grid_row": null,
            "grid_template_areas": null,
            "grid_template_columns": null,
            "grid_template_rows": null,
            "height": null,
            "justify_content": null,
            "justify_items": null,
            "left": null,
            "margin": null,
            "max_height": null,
            "max_width": null,
            "min_height": null,
            "min_width": null,
            "object_fit": null,
            "object_position": null,
            "order": null,
            "overflow": null,
            "overflow_x": null,
            "overflow_y": null,
            "padding": null,
            "right": null,
            "top": null,
            "visibility": null,
            "width": null
          }
        },
        "590f22d6997f4856b9574b772e78a484": {
          "model_module": "@jupyter-widgets/controls",
          "model_name": "DescriptionStyleModel",
          "model_module_version": "1.5.0",
          "state": {
            "_model_module": "@jupyter-widgets/controls",
            "_model_module_version": "1.5.0",
            "_model_name": "DescriptionStyleModel",
            "_view_count": null,
            "_view_module": "@jupyter-widgets/base",
            "_view_module_version": "1.2.0",
            "_view_name": "StyleView",
            "description_width": ""
          }
        },
        "5ba9bb7def3348df8674592ef4ba122b": {
          "model_module": "@jupyter-widgets/base",
          "model_name": "LayoutModel",
          "model_module_version": "1.2.0",
          "state": {
            "_model_module": "@jupyter-widgets/base",
            "_model_module_version": "1.2.0",
            "_model_name": "LayoutModel",
            "_view_count": null,
            "_view_module": "@jupyter-widgets/base",
            "_view_module_version": "1.2.0",
            "_view_name": "LayoutView",
            "align_content": null,
            "align_items": null,
            "align_self": null,
            "border": null,
            "bottom": null,
            "display": null,
            "flex": null,
            "flex_flow": null,
            "grid_area": null,
            "grid_auto_columns": null,
            "grid_auto_flow": null,
            "grid_auto_rows": null,
            "grid_column": null,
            "grid_gap": null,
            "grid_row": null,
            "grid_template_areas": null,
            "grid_template_columns": null,
            "grid_template_rows": null,
            "height": null,
            "justify_content": null,
            "justify_items": null,
            "left": null,
            "margin": null,
            "max_height": null,
            "max_width": null,
            "min_height": null,
            "min_width": null,
            "object_fit": null,
            "object_position": null,
            "order": null,
            "overflow": null,
            "overflow_x": null,
            "overflow_y": null,
            "padding": null,
            "right": null,
            "top": null,
            "visibility": null,
            "width": null
          }
        },
        "e43684534c684d0392dd34e16cd8cec1": {
          "model_module": "@jupyter-widgets/controls",
          "model_name": "ProgressStyleModel",
          "model_module_version": "1.5.0",
          "state": {
            "_model_module": "@jupyter-widgets/controls",
            "_model_module_version": "1.5.0",
            "_model_name": "ProgressStyleModel",
            "_view_count": null,
            "_view_module": "@jupyter-widgets/base",
            "_view_module_version": "1.2.0",
            "_view_name": "StyleView",
            "bar_color": null,
            "description_width": ""
          }
        },
        "fe0666380902449f9d8020f1adc89224": {
          "model_module": "@jupyter-widgets/base",
          "model_name": "LayoutModel",
          "model_module_version": "1.2.0",
          "state": {
            "_model_module": "@jupyter-widgets/base",
            "_model_module_version": "1.2.0",
            "_model_name": "LayoutModel",
            "_view_count": null,
            "_view_module": "@jupyter-widgets/base",
            "_view_module_version": "1.2.0",
            "_view_name": "LayoutView",
            "align_content": null,
            "align_items": null,
            "align_self": null,
            "border": null,
            "bottom": null,
            "display": null,
            "flex": null,
            "flex_flow": null,
            "grid_area": null,
            "grid_auto_columns": null,
            "grid_auto_flow": null,
            "grid_auto_rows": null,
            "grid_column": null,
            "grid_gap": null,
            "grid_row": null,
            "grid_template_areas": null,
            "grid_template_columns": null,
            "grid_template_rows": null,
            "height": null,
            "justify_content": null,
            "justify_items": null,
            "left": null,
            "margin": null,
            "max_height": null,
            "max_width": null,
            "min_height": null,
            "min_width": null,
            "object_fit": null,
            "object_position": null,
            "order": null,
            "overflow": null,
            "overflow_x": null,
            "overflow_y": null,
            "padding": null,
            "right": null,
            "top": null,
            "visibility": null,
            "width": null
          }
        },
        "d8b311ff1e3240758dfdea631f3125fc": {
          "model_module": "@jupyter-widgets/controls",
          "model_name": "DescriptionStyleModel",
          "model_module_version": "1.5.0",
          "state": {
            "_model_module": "@jupyter-widgets/controls",
            "_model_module_version": "1.5.0",
            "_model_name": "DescriptionStyleModel",
            "_view_count": null,
            "_view_module": "@jupyter-widgets/base",
            "_view_module_version": "1.2.0",
            "_view_name": "StyleView",
            "description_width": ""
          }
        },
        "73141c7a3b5d45459ffa15c47babfd2d": {
          "model_module": "@jupyter-widgets/controls",
          "model_name": "HBoxModel",
          "model_module_version": "1.5.0",
          "state": {
            "_dom_classes": [],
            "_model_module": "@jupyter-widgets/controls",
            "_model_module_version": "1.5.0",
            "_model_name": "HBoxModel",
            "_view_count": null,
            "_view_module": "@jupyter-widgets/controls",
            "_view_module_version": "1.5.0",
            "_view_name": "HBoxView",
            "box_style": "",
            "children": [
              "IPY_MODEL_c136d33c846c4dbcaf5aeeedeeadfc8d",
              "IPY_MODEL_712b9760722f493889fe6483a009e0c8",
              "IPY_MODEL_7f78ec4b369a442da4368c8fb5bdab9e"
            ],
            "layout": "IPY_MODEL_fb221619d3704163aaabff73f9e72aa4"
          }
        },
        "c136d33c846c4dbcaf5aeeedeeadfc8d": {
          "model_module": "@jupyter-widgets/controls",
          "model_name": "HTMLModel",
          "model_module_version": "1.5.0",
          "state": {
            "_dom_classes": [],
            "_model_module": "@jupyter-widgets/controls",
            "_model_module_version": "1.5.0",
            "_model_name": "HTMLModel",
            "_view_count": null,
            "_view_module": "@jupyter-widgets/controls",
            "_view_module_version": "1.5.0",
            "_view_name": "HTMLView",
            "description": "",
            "description_tooltip": null,
            "layout": "IPY_MODEL_424ef16788ba41578eb460fbf010502b",
            "placeholder": "​",
            "style": "IPY_MODEL_e88b96e87d0e4c16ae2c67bcbdc353f3",
            "value": "  0%"
          }
        },
        "712b9760722f493889fe6483a009e0c8": {
          "model_module": "@jupyter-widgets/controls",
          "model_name": "FloatProgressModel",
          "model_module_version": "1.5.0",
          "state": {
            "_dom_classes": [],
            "_model_module": "@jupyter-widgets/controls",
            "_model_module_version": "1.5.0",
            "_model_name": "FloatProgressModel",
            "_view_count": null,
            "_view_module": "@jupyter-widgets/controls",
            "_view_module_version": "1.5.0",
            "_view_name": "ProgressView",
            "bar_style": "danger",
            "description": "",
            "description_tooltip": null,
            "layout": "IPY_MODEL_0c3857b6df9b4f76989cf6f7af12649d",
            "max": 6284,
            "min": 0,
            "orientation": "horizontal",
            "style": "IPY_MODEL_c4a8a2023e3240a397d17077595cc9c3",
            "value": 2
          }
        },
        "7f78ec4b369a442da4368c8fb5bdab9e": {
          "model_module": "@jupyter-widgets/controls",
          "model_name": "HTMLModel",
          "model_module_version": "1.5.0",
          "state": {
            "_dom_classes": [],
            "_model_module": "@jupyter-widgets/controls",
            "_model_module_version": "1.5.0",
            "_model_name": "HTMLModel",
            "_view_count": null,
            "_view_module": "@jupyter-widgets/controls",
            "_view_module_version": "1.5.0",
            "_view_name": "HTMLView",
            "description": "",
            "description_tooltip": null,
            "layout": "IPY_MODEL_c2584b9885e4427eb795d8668eef7858",
            "placeholder": "​",
            "style": "IPY_MODEL_d1d12dae1f464a85983682d3dc73f2ac",
            "value": " 2/6284 [00:00&lt;05:26, 19.26it/s]"
          }
        },
        "fb221619d3704163aaabff73f9e72aa4": {
          "model_module": "@jupyter-widgets/base",
          "model_name": "LayoutModel",
          "model_module_version": "1.2.0",
          "state": {
            "_model_module": "@jupyter-widgets/base",
            "_model_module_version": "1.2.0",
            "_model_name": "LayoutModel",
            "_view_count": null,
            "_view_module": "@jupyter-widgets/base",
            "_view_module_version": "1.2.0",
            "_view_name": "LayoutView",
            "align_content": null,
            "align_items": null,
            "align_self": null,
            "border": null,
            "bottom": null,
            "display": null,
            "flex": null,
            "flex_flow": null,
            "grid_area": null,
            "grid_auto_columns": null,
            "grid_auto_flow": null,
            "grid_auto_rows": null,
            "grid_column": null,
            "grid_gap": null,
            "grid_row": null,
            "grid_template_areas": null,
            "grid_template_columns": null,
            "grid_template_rows": null,
            "height": null,
            "justify_content": null,
            "justify_items": null,
            "left": null,
            "margin": null,
            "max_height": null,
            "max_width": null,
            "min_height": null,
            "min_width": null,
            "object_fit": null,
            "object_position": null,
            "order": null,
            "overflow": null,
            "overflow_x": null,
            "overflow_y": null,
            "padding": null,
            "right": null,
            "top": null,
            "visibility": null,
            "width": null
          }
        },
        "424ef16788ba41578eb460fbf010502b": {
          "model_module": "@jupyter-widgets/base",
          "model_name": "LayoutModel",
          "model_module_version": "1.2.0",
          "state": {
            "_model_module": "@jupyter-widgets/base",
            "_model_module_version": "1.2.0",
            "_model_name": "LayoutModel",
            "_view_count": null,
            "_view_module": "@jupyter-widgets/base",
            "_view_module_version": "1.2.0",
            "_view_name": "LayoutView",
            "align_content": null,
            "align_items": null,
            "align_self": null,
            "border": null,
            "bottom": null,
            "display": null,
            "flex": null,
            "flex_flow": null,
            "grid_area": null,
            "grid_auto_columns": null,
            "grid_auto_flow": null,
            "grid_auto_rows": null,
            "grid_column": null,
            "grid_gap": null,
            "grid_row": null,
            "grid_template_areas": null,
            "grid_template_columns": null,
            "grid_template_rows": null,
            "height": null,
            "justify_content": null,
            "justify_items": null,
            "left": null,
            "margin": null,
            "max_height": null,
            "max_width": null,
            "min_height": null,
            "min_width": null,
            "object_fit": null,
            "object_position": null,
            "order": null,
            "overflow": null,
            "overflow_x": null,
            "overflow_y": null,
            "padding": null,
            "right": null,
            "top": null,
            "visibility": null,
            "width": null
          }
        },
        "e88b96e87d0e4c16ae2c67bcbdc353f3": {
          "model_module": "@jupyter-widgets/controls",
          "model_name": "DescriptionStyleModel",
          "model_module_version": "1.5.0",
          "state": {
            "_model_module": "@jupyter-widgets/controls",
            "_model_module_version": "1.5.0",
            "_model_name": "DescriptionStyleModel",
            "_view_count": null,
            "_view_module": "@jupyter-widgets/base",
            "_view_module_version": "1.2.0",
            "_view_name": "StyleView",
            "description_width": ""
          }
        },
        "0c3857b6df9b4f76989cf6f7af12649d": {
          "model_module": "@jupyter-widgets/base",
          "model_name": "LayoutModel",
          "model_module_version": "1.2.0",
          "state": {
            "_model_module": "@jupyter-widgets/base",
            "_model_module_version": "1.2.0",
            "_model_name": "LayoutModel",
            "_view_count": null,
            "_view_module": "@jupyter-widgets/base",
            "_view_module_version": "1.2.0",
            "_view_name": "LayoutView",
            "align_content": null,
            "align_items": null,
            "align_self": null,
            "border": null,
            "bottom": null,
            "display": null,
            "flex": null,
            "flex_flow": null,
            "grid_area": null,
            "grid_auto_columns": null,
            "grid_auto_flow": null,
            "grid_auto_rows": null,
            "grid_column": null,
            "grid_gap": null,
            "grid_row": null,
            "grid_template_areas": null,
            "grid_template_columns": null,
            "grid_template_rows": null,
            "height": null,
            "justify_content": null,
            "justify_items": null,
            "left": null,
            "margin": null,
            "max_height": null,
            "max_width": null,
            "min_height": null,
            "min_width": null,
            "object_fit": null,
            "object_position": null,
            "order": null,
            "overflow": null,
            "overflow_x": null,
            "overflow_y": null,
            "padding": null,
            "right": null,
            "top": null,
            "visibility": null,
            "width": null
          }
        },
        "c4a8a2023e3240a397d17077595cc9c3": {
          "model_module": "@jupyter-widgets/controls",
          "model_name": "ProgressStyleModel",
          "model_module_version": "1.5.0",
          "state": {
            "_model_module": "@jupyter-widgets/controls",
            "_model_module_version": "1.5.0",
            "_model_name": "ProgressStyleModel",
            "_view_count": null,
            "_view_module": "@jupyter-widgets/base",
            "_view_module_version": "1.2.0",
            "_view_name": "StyleView",
            "bar_color": null,
            "description_width": ""
          }
        },
        "c2584b9885e4427eb795d8668eef7858": {
          "model_module": "@jupyter-widgets/base",
          "model_name": "LayoutModel",
          "model_module_version": "1.2.0",
          "state": {
            "_model_module": "@jupyter-widgets/base",
            "_model_module_version": "1.2.0",
            "_model_name": "LayoutModel",
            "_view_count": null,
            "_view_module": "@jupyter-widgets/base",
            "_view_module_version": "1.2.0",
            "_view_name": "LayoutView",
            "align_content": null,
            "align_items": null,
            "align_self": null,
            "border": null,
            "bottom": null,
            "display": null,
            "flex": null,
            "flex_flow": null,
            "grid_area": null,
            "grid_auto_columns": null,
            "grid_auto_flow": null,
            "grid_auto_rows": null,
            "grid_column": null,
            "grid_gap": null,
            "grid_row": null,
            "grid_template_areas": null,
            "grid_template_columns": null,
            "grid_template_rows": null,
            "height": null,
            "justify_content": null,
            "justify_items": null,
            "left": null,
            "margin": null,
            "max_height": null,
            "max_width": null,
            "min_height": null,
            "min_width": null,
            "object_fit": null,
            "object_position": null,
            "order": null,
            "overflow": null,
            "overflow_x": null,
            "overflow_y": null,
            "padding": null,
            "right": null,
            "top": null,
            "visibility": null,
            "width": null
          }
        },
        "d1d12dae1f464a85983682d3dc73f2ac": {
          "model_module": "@jupyter-widgets/controls",
          "model_name": "DescriptionStyleModel",
          "model_module_version": "1.5.0",
          "state": {
            "_model_module": "@jupyter-widgets/controls",
            "_model_module_version": "1.5.0",
            "_model_name": "DescriptionStyleModel",
            "_view_count": null,
            "_view_module": "@jupyter-widgets/base",
            "_view_module_version": "1.2.0",
            "_view_name": "StyleView",
            "description_width": ""
          }
        },
        "aec0c71caabd4bd9925c54a05102d206": {
          "model_module": "@jupyter-widgets/controls",
          "model_name": "HBoxModel",
          "model_module_version": "1.5.0",
          "state": {
            "_dom_classes": [],
            "_model_module": "@jupyter-widgets/controls",
            "_model_module_version": "1.5.0",
            "_model_name": "HBoxModel",
            "_view_count": null,
            "_view_module": "@jupyter-widgets/controls",
            "_view_module_version": "1.5.0",
            "_view_name": "HBoxView",
            "box_style": "",
            "children": [
              "IPY_MODEL_e5c934c47d0143df84f7e667b925109d",
              "IPY_MODEL_cdac6aa7ff8847aaa3b7cc0754dc1016",
              "IPY_MODEL_2812426b481d4394a584ff18b60da7ad"
            ],
            "layout": "IPY_MODEL_d720e5e912e14a62899c5cb76e435383"
          }
        },
        "e5c934c47d0143df84f7e667b925109d": {
          "model_module": "@jupyter-widgets/controls",
          "model_name": "HTMLModel",
          "model_module_version": "1.5.0",
          "state": {
            "_dom_classes": [],
            "_model_module": "@jupyter-widgets/controls",
            "_model_module_version": "1.5.0",
            "_model_name": "HTMLModel",
            "_view_count": null,
            "_view_module": "@jupyter-widgets/controls",
            "_view_module_version": "1.5.0",
            "_view_name": "HTMLView",
            "description": "",
            "description_tooltip": null,
            "layout": "IPY_MODEL_015aad9ff7d04eddb66cb59596c6fcf2",
            "placeholder": "​",
            "style": "IPY_MODEL_6ce82f6985bd42ffb0c486ed708c8610",
            "value": "  0%"
          }
        },
        "cdac6aa7ff8847aaa3b7cc0754dc1016": {
          "model_module": "@jupyter-widgets/controls",
          "model_name": "FloatProgressModel",
          "model_module_version": "1.5.0",
          "state": {
            "_dom_classes": [],
            "_model_module": "@jupyter-widgets/controls",
            "_model_module_version": "1.5.0",
            "_model_name": "FloatProgressModel",
            "_view_count": null,
            "_view_module": "@jupyter-widgets/controls",
            "_view_module_version": "1.5.0",
            "_view_name": "ProgressView",
            "bar_style": "danger",
            "description": "",
            "description_tooltip": null,
            "layout": "IPY_MODEL_b15b59c4903f4f5280bed31cdeb62b3f",
            "max": 6284,
            "min": 0,
            "orientation": "horizontal",
            "style": "IPY_MODEL_eab609b4e1ea466aa64be0d6a26319e7",
            "value": 4
          }
        },
        "2812426b481d4394a584ff18b60da7ad": {
          "model_module": "@jupyter-widgets/controls",
          "model_name": "HTMLModel",
          "model_module_version": "1.5.0",
          "state": {
            "_dom_classes": [],
            "_model_module": "@jupyter-widgets/controls",
            "_model_module_version": "1.5.0",
            "_model_name": "HTMLModel",
            "_view_count": null,
            "_view_module": "@jupyter-widgets/controls",
            "_view_module_version": "1.5.0",
            "_view_name": "HTMLView",
            "description": "",
            "description_tooltip": null,
            "layout": "IPY_MODEL_998a88c8695c409fb302a4a15dd2fd8a",
            "placeholder": "​",
            "style": "IPY_MODEL_e3593aac57704b768d7fa6e250fa0639",
            "value": " 4/6284 [00:00&lt;04:10, 25.02it/s]"
          }
        },
        "d720e5e912e14a62899c5cb76e435383": {
          "model_module": "@jupyter-widgets/base",
          "model_name": "LayoutModel",
          "model_module_version": "1.2.0",
          "state": {
            "_model_module": "@jupyter-widgets/base",
            "_model_module_version": "1.2.0",
            "_model_name": "LayoutModel",
            "_view_count": null,
            "_view_module": "@jupyter-widgets/base",
            "_view_module_version": "1.2.0",
            "_view_name": "LayoutView",
            "align_content": null,
            "align_items": null,
            "align_self": null,
            "border": null,
            "bottom": null,
            "display": null,
            "flex": null,
            "flex_flow": null,
            "grid_area": null,
            "grid_auto_columns": null,
            "grid_auto_flow": null,
            "grid_auto_rows": null,
            "grid_column": null,
            "grid_gap": null,
            "grid_row": null,
            "grid_template_areas": null,
            "grid_template_columns": null,
            "grid_template_rows": null,
            "height": null,
            "justify_content": null,
            "justify_items": null,
            "left": null,
            "margin": null,
            "max_height": null,
            "max_width": null,
            "min_height": null,
            "min_width": null,
            "object_fit": null,
            "object_position": null,
            "order": null,
            "overflow": null,
            "overflow_x": null,
            "overflow_y": null,
            "padding": null,
            "right": null,
            "top": null,
            "visibility": null,
            "width": null
          }
        },
        "015aad9ff7d04eddb66cb59596c6fcf2": {
          "model_module": "@jupyter-widgets/base",
          "model_name": "LayoutModel",
          "model_module_version": "1.2.0",
          "state": {
            "_model_module": "@jupyter-widgets/base",
            "_model_module_version": "1.2.0",
            "_model_name": "LayoutModel",
            "_view_count": null,
            "_view_module": "@jupyter-widgets/base",
            "_view_module_version": "1.2.0",
            "_view_name": "LayoutView",
            "align_content": null,
            "align_items": null,
            "align_self": null,
            "border": null,
            "bottom": null,
            "display": null,
            "flex": null,
            "flex_flow": null,
            "grid_area": null,
            "grid_auto_columns": null,
            "grid_auto_flow": null,
            "grid_auto_rows": null,
            "grid_column": null,
            "grid_gap": null,
            "grid_row": null,
            "grid_template_areas": null,
            "grid_template_columns": null,
            "grid_template_rows": null,
            "height": null,
            "justify_content": null,
            "justify_items": null,
            "left": null,
            "margin": null,
            "max_height": null,
            "max_width": null,
            "min_height": null,
            "min_width": null,
            "object_fit": null,
            "object_position": null,
            "order": null,
            "overflow": null,
            "overflow_x": null,
            "overflow_y": null,
            "padding": null,
            "right": null,
            "top": null,
            "visibility": null,
            "width": null
          }
        },
        "6ce82f6985bd42ffb0c486ed708c8610": {
          "model_module": "@jupyter-widgets/controls",
          "model_name": "DescriptionStyleModel",
          "model_module_version": "1.5.0",
          "state": {
            "_model_module": "@jupyter-widgets/controls",
            "_model_module_version": "1.5.0",
            "_model_name": "DescriptionStyleModel",
            "_view_count": null,
            "_view_module": "@jupyter-widgets/base",
            "_view_module_version": "1.2.0",
            "_view_name": "StyleView",
            "description_width": ""
          }
        },
        "b15b59c4903f4f5280bed31cdeb62b3f": {
          "model_module": "@jupyter-widgets/base",
          "model_name": "LayoutModel",
          "model_module_version": "1.2.0",
          "state": {
            "_model_module": "@jupyter-widgets/base",
            "_model_module_version": "1.2.0",
            "_model_name": "LayoutModel",
            "_view_count": null,
            "_view_module": "@jupyter-widgets/base",
            "_view_module_version": "1.2.0",
            "_view_name": "LayoutView",
            "align_content": null,
            "align_items": null,
            "align_self": null,
            "border": null,
            "bottom": null,
            "display": null,
            "flex": null,
            "flex_flow": null,
            "grid_area": null,
            "grid_auto_columns": null,
            "grid_auto_flow": null,
            "grid_auto_rows": null,
            "grid_column": null,
            "grid_gap": null,
            "grid_row": null,
            "grid_template_areas": null,
            "grid_template_columns": null,
            "grid_template_rows": null,
            "height": null,
            "justify_content": null,
            "justify_items": null,
            "left": null,
            "margin": null,
            "max_height": null,
            "max_width": null,
            "min_height": null,
            "min_width": null,
            "object_fit": null,
            "object_position": null,
            "order": null,
            "overflow": null,
            "overflow_x": null,
            "overflow_y": null,
            "padding": null,
            "right": null,
            "top": null,
            "visibility": null,
            "width": null
          }
        },
        "eab609b4e1ea466aa64be0d6a26319e7": {
          "model_module": "@jupyter-widgets/controls",
          "model_name": "ProgressStyleModel",
          "model_module_version": "1.5.0",
          "state": {
            "_model_module": "@jupyter-widgets/controls",
            "_model_module_version": "1.5.0",
            "_model_name": "ProgressStyleModel",
            "_view_count": null,
            "_view_module": "@jupyter-widgets/base",
            "_view_module_version": "1.2.0",
            "_view_name": "StyleView",
            "bar_color": null,
            "description_width": ""
          }
        },
        "998a88c8695c409fb302a4a15dd2fd8a": {
          "model_module": "@jupyter-widgets/base",
          "model_name": "LayoutModel",
          "model_module_version": "1.2.0",
          "state": {
            "_model_module": "@jupyter-widgets/base",
            "_model_module_version": "1.2.0",
            "_model_name": "LayoutModel",
            "_view_count": null,
            "_view_module": "@jupyter-widgets/base",
            "_view_module_version": "1.2.0",
            "_view_name": "LayoutView",
            "align_content": null,
            "align_items": null,
            "align_self": null,
            "border": null,
            "bottom": null,
            "display": null,
            "flex": null,
            "flex_flow": null,
            "grid_area": null,
            "grid_auto_columns": null,
            "grid_auto_flow": null,
            "grid_auto_rows": null,
            "grid_column": null,
            "grid_gap": null,
            "grid_row": null,
            "grid_template_areas": null,
            "grid_template_columns": null,
            "grid_template_rows": null,
            "height": null,
            "justify_content": null,
            "justify_items": null,
            "left": null,
            "margin": null,
            "max_height": null,
            "max_width": null,
            "min_height": null,
            "min_width": null,
            "object_fit": null,
            "object_position": null,
            "order": null,
            "overflow": null,
            "overflow_x": null,
            "overflow_y": null,
            "padding": null,
            "right": null,
            "top": null,
            "visibility": null,
            "width": null
          }
        },
        "e3593aac57704b768d7fa6e250fa0639": {
          "model_module": "@jupyter-widgets/controls",
          "model_name": "DescriptionStyleModel",
          "model_module_version": "1.5.0",
          "state": {
            "_model_module": "@jupyter-widgets/controls",
            "_model_module_version": "1.5.0",
            "_model_name": "DescriptionStyleModel",
            "_view_count": null,
            "_view_module": "@jupyter-widgets/base",
            "_view_module_version": "1.2.0",
            "_view_name": "StyleView",
            "description_width": ""
          }
        },
        "6203b1bde62444838387bcad6f15d2ff": {
          "model_module": "@jupyter-widgets/controls",
          "model_name": "HBoxModel",
          "model_module_version": "1.5.0",
          "state": {
            "_dom_classes": [],
            "_model_module": "@jupyter-widgets/controls",
            "_model_module_version": "1.5.0",
            "_model_name": "HBoxModel",
            "_view_count": null,
            "_view_module": "@jupyter-widgets/controls",
            "_view_module_version": "1.5.0",
            "_view_name": "HBoxView",
            "box_style": "",
            "children": [
              "IPY_MODEL_061df2136cfb47fdbca8bdee01bf00de",
              "IPY_MODEL_99ddf563519043aebadad247547a621f",
              "IPY_MODEL_23cef139bbdd44488dbb3f657a97357d"
            ],
            "layout": "IPY_MODEL_8bb11899332f40d3b396952f109773a1"
          }
        },
        "061df2136cfb47fdbca8bdee01bf00de": {
          "model_module": "@jupyter-widgets/controls",
          "model_name": "HTMLModel",
          "model_module_version": "1.5.0",
          "state": {
            "_dom_classes": [],
            "_model_module": "@jupyter-widgets/controls",
            "_model_module_version": "1.5.0",
            "_model_name": "HTMLModel",
            "_view_count": null,
            "_view_module": "@jupyter-widgets/controls",
            "_view_module_version": "1.5.0",
            "_view_name": "HTMLView",
            "description": "",
            "description_tooltip": null,
            "layout": "IPY_MODEL_ac03c3e168ce490f8559018d124c84c6",
            "placeholder": "​",
            "style": "IPY_MODEL_6f5caa1bdcff4d75bc96b352db8e3d86",
            "value": "  0%"
          }
        },
        "99ddf563519043aebadad247547a621f": {
          "model_module": "@jupyter-widgets/controls",
          "model_name": "FloatProgressModel",
          "model_module_version": "1.5.0",
          "state": {
            "_dom_classes": [],
            "_model_module": "@jupyter-widgets/controls",
            "_model_module_version": "1.5.0",
            "_model_name": "FloatProgressModel",
            "_view_count": null,
            "_view_module": "@jupyter-widgets/controls",
            "_view_module_version": "1.5.0",
            "_view_name": "ProgressView",
            "bar_style": "danger",
            "description": "",
            "description_tooltip": null,
            "layout": "IPY_MODEL_467a07ea94c4426ba15f27673e53e90b",
            "max": 6284,
            "min": 0,
            "orientation": "horizontal",
            "style": "IPY_MODEL_28af5b7606c5465bae656392a0c0977b",
            "value": 18
          }
        },
        "23cef139bbdd44488dbb3f657a97357d": {
          "model_module": "@jupyter-widgets/controls",
          "model_name": "HTMLModel",
          "model_module_version": "1.5.0",
          "state": {
            "_dom_classes": [],
            "_model_module": "@jupyter-widgets/controls",
            "_model_module_version": "1.5.0",
            "_model_name": "HTMLModel",
            "_view_count": null,
            "_view_module": "@jupyter-widgets/controls",
            "_view_module_version": "1.5.0",
            "_view_name": "HTMLView",
            "description": "",
            "description_tooltip": null,
            "layout": "IPY_MODEL_cefdf725f33b4a6bb2ca2d155317ad51",
            "placeholder": "​",
            "style": "IPY_MODEL_49d3119a385d47998a9aee8a198d05dd",
            "value": " 18/6284 [00:00&lt;01:58, 52.73it/s]"
          }
        },
        "8bb11899332f40d3b396952f109773a1": {
          "model_module": "@jupyter-widgets/base",
          "model_name": "LayoutModel",
          "model_module_version": "1.2.0",
          "state": {
            "_model_module": "@jupyter-widgets/base",
            "_model_module_version": "1.2.0",
            "_model_name": "LayoutModel",
            "_view_count": null,
            "_view_module": "@jupyter-widgets/base",
            "_view_module_version": "1.2.0",
            "_view_name": "LayoutView",
            "align_content": null,
            "align_items": null,
            "align_self": null,
            "border": null,
            "bottom": null,
            "display": null,
            "flex": null,
            "flex_flow": null,
            "grid_area": null,
            "grid_auto_columns": null,
            "grid_auto_flow": null,
            "grid_auto_rows": null,
            "grid_column": null,
            "grid_gap": null,
            "grid_row": null,
            "grid_template_areas": null,
            "grid_template_columns": null,
            "grid_template_rows": null,
            "height": null,
            "justify_content": null,
            "justify_items": null,
            "left": null,
            "margin": null,
            "max_height": null,
            "max_width": null,
            "min_height": null,
            "min_width": null,
            "object_fit": null,
            "object_position": null,
            "order": null,
            "overflow": null,
            "overflow_x": null,
            "overflow_y": null,
            "padding": null,
            "right": null,
            "top": null,
            "visibility": null,
            "width": null
          }
        },
        "ac03c3e168ce490f8559018d124c84c6": {
          "model_module": "@jupyter-widgets/base",
          "model_name": "LayoutModel",
          "model_module_version": "1.2.0",
          "state": {
            "_model_module": "@jupyter-widgets/base",
            "_model_module_version": "1.2.0",
            "_model_name": "LayoutModel",
            "_view_count": null,
            "_view_module": "@jupyter-widgets/base",
            "_view_module_version": "1.2.0",
            "_view_name": "LayoutView",
            "align_content": null,
            "align_items": null,
            "align_self": null,
            "border": null,
            "bottom": null,
            "display": null,
            "flex": null,
            "flex_flow": null,
            "grid_area": null,
            "grid_auto_columns": null,
            "grid_auto_flow": null,
            "grid_auto_rows": null,
            "grid_column": null,
            "grid_gap": null,
            "grid_row": null,
            "grid_template_areas": null,
            "grid_template_columns": null,
            "grid_template_rows": null,
            "height": null,
            "justify_content": null,
            "justify_items": null,
            "left": null,
            "margin": null,
            "max_height": null,
            "max_width": null,
            "min_height": null,
            "min_width": null,
            "object_fit": null,
            "object_position": null,
            "order": null,
            "overflow": null,
            "overflow_x": null,
            "overflow_y": null,
            "padding": null,
            "right": null,
            "top": null,
            "visibility": null,
            "width": null
          }
        },
        "6f5caa1bdcff4d75bc96b352db8e3d86": {
          "model_module": "@jupyter-widgets/controls",
          "model_name": "DescriptionStyleModel",
          "model_module_version": "1.5.0",
          "state": {
            "_model_module": "@jupyter-widgets/controls",
            "_model_module_version": "1.5.0",
            "_model_name": "DescriptionStyleModel",
            "_view_count": null,
            "_view_module": "@jupyter-widgets/base",
            "_view_module_version": "1.2.0",
            "_view_name": "StyleView",
            "description_width": ""
          }
        },
        "467a07ea94c4426ba15f27673e53e90b": {
          "model_module": "@jupyter-widgets/base",
          "model_name": "LayoutModel",
          "model_module_version": "1.2.0",
          "state": {
            "_model_module": "@jupyter-widgets/base",
            "_model_module_version": "1.2.0",
            "_model_name": "LayoutModel",
            "_view_count": null,
            "_view_module": "@jupyter-widgets/base",
            "_view_module_version": "1.2.0",
            "_view_name": "LayoutView",
            "align_content": null,
            "align_items": null,
            "align_self": null,
            "border": null,
            "bottom": null,
            "display": null,
            "flex": null,
            "flex_flow": null,
            "grid_area": null,
            "grid_auto_columns": null,
            "grid_auto_flow": null,
            "grid_auto_rows": null,
            "grid_column": null,
            "grid_gap": null,
            "grid_row": null,
            "grid_template_areas": null,
            "grid_template_columns": null,
            "grid_template_rows": null,
            "height": null,
            "justify_content": null,
            "justify_items": null,
            "left": null,
            "margin": null,
            "max_height": null,
            "max_width": null,
            "min_height": null,
            "min_width": null,
            "object_fit": null,
            "object_position": null,
            "order": null,
            "overflow": null,
            "overflow_x": null,
            "overflow_y": null,
            "padding": null,
            "right": null,
            "top": null,
            "visibility": null,
            "width": null
          }
        },
        "28af5b7606c5465bae656392a0c0977b": {
          "model_module": "@jupyter-widgets/controls",
          "model_name": "ProgressStyleModel",
          "model_module_version": "1.5.0",
          "state": {
            "_model_module": "@jupyter-widgets/controls",
            "_model_module_version": "1.5.0",
            "_model_name": "ProgressStyleModel",
            "_view_count": null,
            "_view_module": "@jupyter-widgets/base",
            "_view_module_version": "1.2.0",
            "_view_name": "StyleView",
            "bar_color": null,
            "description_width": ""
          }
        },
        "cefdf725f33b4a6bb2ca2d155317ad51": {
          "model_module": "@jupyter-widgets/base",
          "model_name": "LayoutModel",
          "model_module_version": "1.2.0",
          "state": {
            "_model_module": "@jupyter-widgets/base",
            "_model_module_version": "1.2.0",
            "_model_name": "LayoutModel",
            "_view_count": null,
            "_view_module": "@jupyter-widgets/base",
            "_view_module_version": "1.2.0",
            "_view_name": "LayoutView",
            "align_content": null,
            "align_items": null,
            "align_self": null,
            "border": null,
            "bottom": null,
            "display": null,
            "flex": null,
            "flex_flow": null,
            "grid_area": null,
            "grid_auto_columns": null,
            "grid_auto_flow": null,
            "grid_auto_rows": null,
            "grid_column": null,
            "grid_gap": null,
            "grid_row": null,
            "grid_template_areas": null,
            "grid_template_columns": null,
            "grid_template_rows": null,
            "height": null,
            "justify_content": null,
            "justify_items": null,
            "left": null,
            "margin": null,
            "max_height": null,
            "max_width": null,
            "min_height": null,
            "min_width": null,
            "object_fit": null,
            "object_position": null,
            "order": null,
            "overflow": null,
            "overflow_x": null,
            "overflow_y": null,
            "padding": null,
            "right": null,
            "top": null,
            "visibility": null,
            "width": null
          }
        },
        "49d3119a385d47998a9aee8a198d05dd": {
          "model_module": "@jupyter-widgets/controls",
          "model_name": "DescriptionStyleModel",
          "model_module_version": "1.5.0",
          "state": {
            "_model_module": "@jupyter-widgets/controls",
            "_model_module_version": "1.5.0",
            "_model_name": "DescriptionStyleModel",
            "_view_count": null,
            "_view_module": "@jupyter-widgets/base",
            "_view_module_version": "1.2.0",
            "_view_name": "StyleView",
            "description_width": ""
          }
        }
      }
    }
  },
  "cells": [
    {
      "cell_type": "markdown",
      "source": [
        "# Final Project for MLSS\n",
        "## How good can models forget old definitions and remember new ones?\n",
        "Contributors: </br>\n",
        "Ayrton San Joaquin </br>\n",
        "Ardy Haroen"
      ],
      "metadata": {
        "id": "FQczt_9SwuBa"
      }
    },
    {
      "cell_type": "markdown",
      "source": [
        "### Import Dependencies"
      ],
      "metadata": {
        "id": "wX4stkG3YT54"
      }
    },
    {
      "cell_type": "code",
      "source": [
        "!pip install spacy ftfy --q\n",
        "!python -m spacy download en\n",
        "#!pip install transformers\n",
        "!pip install datasets\n",
        "#!pip install evaluate\n",
        "\n",
        "!pip install datasets \n",
        "\n",
        "import pandas as pd\n",
        "from tqdm.notebook import tqdm\n",
        "import re\n",
        "import numpy as np\n",
        "import matplotlib.pyplot as plt\n",
        "\n",
        "#from transformers import GPT2Tokenizer, GPT2LMHeadModel, GPT2Model, GPT2Config, OpenAIGPTTokenizer, OpenAIGPTLMHeadModel, OpenAIGPTModel, OpenAIGPTConfig\n",
        "from torch.nn import CosineSimilarity\n",
        "import torch\n",
        "import nltk\n",
        "nltk.download('omw-1.4')\n",
        "nltk.download('wordnet')"
      ],
      "metadata": {
        "colab": {
          "base_uri": "https://localhost:8080/"
        },
        "id": "hawQUiegYcMz",
        "outputId": "1fee5e7e-907b-4450-975d-4dad16515a50"
      },
      "execution_count": null,
      "outputs": [
        {
          "output_type": "stream",
          "name": "stdout",
          "text": [
            "\u001b[?25l\r\u001b[K     |██████▏                         | 10 kB 19.1 MB/s eta 0:00:01\r\u001b[K     |████████████▍                   | 20 kB 13.6 MB/s eta 0:00:01\r\u001b[K     |██████████████████▌             | 30 kB 8.2 MB/s eta 0:00:01\r\u001b[K     |████████████████████████▊       | 40 kB 4.6 MB/s eta 0:00:01\r\u001b[K     |██████████████████████████████▉ | 51 kB 5.2 MB/s eta 0:00:01\r\u001b[K     |████████████████████████████████| 53 kB 753 kB/s \n",
            "\u001b[?25h2022-12-01 17:44:49.381444: E tensorflow/stream_executor/cuda/cuda_driver.cc:271] failed call to cuInit: CUDA_ERROR_NO_DEVICE: no CUDA-capable device is detected\n",
            "\u001b[38;5;3m⚠ As of spaCy v3.0, shortcuts like 'en' are deprecated. Please use the\n",
            "full pipeline package name 'en_core_web_sm' instead.\u001b[0m\n",
            "Looking in indexes: https://pypi.org/simple, https://us-python.pkg.dev/colab-wheels/public/simple/\n",
            "Collecting en-core-web-sm==3.4.1\n",
            "  Downloading https://github.com/explosion/spacy-models/releases/download/en_core_web_sm-3.4.1/en_core_web_sm-3.4.1-py3-none-any.whl (12.8 MB)\n",
            "\u001b[K     |████████████████████████████████| 12.8 MB 5.2 MB/s \n",
            "\u001b[?25hRequirement already satisfied: spacy<3.5.0,>=3.4.0 in /usr/local/lib/python3.8/dist-packages (from en-core-web-sm==3.4.1) (3.4.3)\n",
            "Requirement already satisfied: pathy>=0.3.5 in /usr/local/lib/python3.8/dist-packages (from spacy<3.5.0,>=3.4.0->en-core-web-sm==3.4.1) (0.9.0)\n",
            "Requirement already satisfied: catalogue<2.1.0,>=2.0.6 in /usr/local/lib/python3.8/dist-packages (from spacy<3.5.0,>=3.4.0->en-core-web-sm==3.4.1) (2.0.8)\n",
            "Requirement already satisfied: cymem<2.1.0,>=2.0.2 in /usr/local/lib/python3.8/dist-packages (from spacy<3.5.0,>=3.4.0->en-core-web-sm==3.4.1) (2.0.7)\n",
            "Requirement already satisfied: thinc<8.2.0,>=8.1.0 in /usr/local/lib/python3.8/dist-packages (from spacy<3.5.0,>=3.4.0->en-core-web-sm==3.4.1) (8.1.5)\n",
            "Requirement already satisfied: srsly<3.0.0,>=2.4.3 in /usr/local/lib/python3.8/dist-packages (from spacy<3.5.0,>=3.4.0->en-core-web-sm==3.4.1) (2.4.5)\n",
            "Requirement already satisfied: spacy-legacy<3.1.0,>=3.0.10 in /usr/local/lib/python3.8/dist-packages (from spacy<3.5.0,>=3.4.0->en-core-web-sm==3.4.1) (3.0.10)\n",
            "Requirement already satisfied: wasabi<1.1.0,>=0.9.1 in /usr/local/lib/python3.8/dist-packages (from spacy<3.5.0,>=3.4.0->en-core-web-sm==3.4.1) (0.10.1)\n",
            "Requirement already satisfied: murmurhash<1.1.0,>=0.28.0 in /usr/local/lib/python3.8/dist-packages (from spacy<3.5.0,>=3.4.0->en-core-web-sm==3.4.1) (1.0.9)\n",
            "Requirement already satisfied: requests<3.0.0,>=2.13.0 in /usr/local/lib/python3.8/dist-packages (from spacy<3.5.0,>=3.4.0->en-core-web-sm==3.4.1) (2.23.0)\n",
            "Requirement already satisfied: preshed<3.1.0,>=3.0.2 in /usr/local/lib/python3.8/dist-packages (from spacy<3.5.0,>=3.4.0->en-core-web-sm==3.4.1) (3.0.8)\n",
            "Requirement already satisfied: pydantic!=1.8,!=1.8.1,<1.11.0,>=1.7.4 in /usr/local/lib/python3.8/dist-packages (from spacy<3.5.0,>=3.4.0->en-core-web-sm==3.4.1) (1.10.2)\n",
            "Requirement already satisfied: tqdm<5.0.0,>=4.38.0 in /usr/local/lib/python3.8/dist-packages (from spacy<3.5.0,>=3.4.0->en-core-web-sm==3.4.1) (4.64.1)\n",
            "Requirement already satisfied: packaging>=20.0 in /usr/local/lib/python3.8/dist-packages (from spacy<3.5.0,>=3.4.0->en-core-web-sm==3.4.1) (21.3)\n",
            "Requirement already satisfied: setuptools in /usr/local/lib/python3.8/dist-packages (from spacy<3.5.0,>=3.4.0->en-core-web-sm==3.4.1) (57.4.0)\n",
            "Requirement already satisfied: langcodes<4.0.0,>=3.2.0 in /usr/local/lib/python3.8/dist-packages (from spacy<3.5.0,>=3.4.0->en-core-web-sm==3.4.1) (3.3.0)\n",
            "Requirement already satisfied: numpy>=1.15.0 in /usr/local/lib/python3.8/dist-packages (from spacy<3.5.0,>=3.4.0->en-core-web-sm==3.4.1) (1.21.6)\n",
            "Requirement already satisfied: spacy-loggers<2.0.0,>=1.0.0 in /usr/local/lib/python3.8/dist-packages (from spacy<3.5.0,>=3.4.0->en-core-web-sm==3.4.1) (1.0.3)\n",
            "Requirement already satisfied: jinja2 in /usr/local/lib/python3.8/dist-packages (from spacy<3.5.0,>=3.4.0->en-core-web-sm==3.4.1) (2.11.3)\n",
            "Requirement already satisfied: typer<0.8.0,>=0.3.0 in /usr/local/lib/python3.8/dist-packages (from spacy<3.5.0,>=3.4.0->en-core-web-sm==3.4.1) (0.7.0)\n",
            "Requirement already satisfied: pyparsing!=3.0.5,>=2.0.2 in /usr/local/lib/python3.8/dist-packages (from packaging>=20.0->spacy<3.5.0,>=3.4.0->en-core-web-sm==3.4.1) (3.0.9)\n",
            "Requirement already satisfied: smart-open<6.0.0,>=5.2.1 in /usr/local/lib/python3.8/dist-packages (from pathy>=0.3.5->spacy<3.5.0,>=3.4.0->en-core-web-sm==3.4.1) (5.2.1)\n",
            "Requirement already satisfied: typing-extensions>=4.1.0 in /usr/local/lib/python3.8/dist-packages (from pydantic!=1.8,!=1.8.1,<1.11.0,>=1.7.4->spacy<3.5.0,>=3.4.0->en-core-web-sm==3.4.1) (4.1.1)\n",
            "Requirement already satisfied: idna<3,>=2.5 in /usr/local/lib/python3.8/dist-packages (from requests<3.0.0,>=2.13.0->spacy<3.5.0,>=3.4.0->en-core-web-sm==3.4.1) (2.10)\n",
            "Requirement already satisfied: certifi>=2017.4.17 in /usr/local/lib/python3.8/dist-packages (from requests<3.0.0,>=2.13.0->spacy<3.5.0,>=3.4.0->en-core-web-sm==3.4.1) (2022.9.24)\n",
            "Requirement already satisfied: urllib3!=1.25.0,!=1.25.1,<1.26,>=1.21.1 in /usr/local/lib/python3.8/dist-packages (from requests<3.0.0,>=2.13.0->spacy<3.5.0,>=3.4.0->en-core-web-sm==3.4.1) (1.24.3)\n",
            "Requirement already satisfied: chardet<4,>=3.0.2 in /usr/local/lib/python3.8/dist-packages (from requests<3.0.0,>=2.13.0->spacy<3.5.0,>=3.4.0->en-core-web-sm==3.4.1) (3.0.4)\n",
            "Requirement already satisfied: confection<1.0.0,>=0.0.1 in /usr/local/lib/python3.8/dist-packages (from thinc<8.2.0,>=8.1.0->spacy<3.5.0,>=3.4.0->en-core-web-sm==3.4.1) (0.0.3)\n",
            "Requirement already satisfied: blis<0.8.0,>=0.7.8 in /usr/local/lib/python3.8/dist-packages (from thinc<8.2.0,>=8.1.0->spacy<3.5.0,>=3.4.0->en-core-web-sm==3.4.1) (0.7.9)\n",
            "Requirement already satisfied: click<9.0.0,>=7.1.1 in /usr/local/lib/python3.8/dist-packages (from typer<0.8.0,>=0.3.0->spacy<3.5.0,>=3.4.0->en-core-web-sm==3.4.1) (7.1.2)\n",
            "Requirement already satisfied: MarkupSafe>=0.23 in /usr/local/lib/python3.8/dist-packages (from jinja2->spacy<3.5.0,>=3.4.0->en-core-web-sm==3.4.1) (2.0.1)\n",
            "\u001b[38;5;2m✔ Download and installation successful\u001b[0m\n",
            "You can now load the package via spacy.load('en_core_web_sm')\n",
            "Looking in indexes: https://pypi.org/simple, https://us-python.pkg.dev/colab-wheels/public/simple/\n",
            "Collecting datasets\n",
            "  Downloading datasets-2.7.1-py3-none-any.whl (451 kB)\n",
            "\u001b[K     |████████████████████████████████| 451 kB 5.2 MB/s \n",
            "\u001b[?25hRequirement already satisfied: dill<0.3.7 in /usr/local/lib/python3.8/dist-packages (from datasets) (0.3.6)\n",
            "Requirement already satisfied: pandas in /usr/local/lib/python3.8/dist-packages (from datasets) (1.3.5)\n",
            "Collecting responses<0.19\n",
            "  Downloading responses-0.18.0-py3-none-any.whl (38 kB)\n",
            "Collecting xxhash\n",
            "  Downloading xxhash-3.1.0-cp38-cp38-manylinux_2_17_x86_64.manylinux2014_x86_64.whl (212 kB)\n",
            "\u001b[K     |████████████████████████████████| 212 kB 57.8 MB/s \n",
            "\u001b[?25hRequirement already satisfied: packaging in /usr/local/lib/python3.8/dist-packages (from datasets) (21.3)\n",
            "Requirement already satisfied: aiohttp in /usr/local/lib/python3.8/dist-packages (from datasets) (3.8.3)\n",
            "Collecting huggingface-hub<1.0.0,>=0.2.0\n",
            "  Downloading huggingface_hub-0.11.1-py3-none-any.whl (182 kB)\n",
            "\u001b[K     |████████████████████████████████| 182 kB 66.5 MB/s \n",
            "\u001b[?25hCollecting multiprocess\n",
            "  Downloading multiprocess-0.70.14-py38-none-any.whl (132 kB)\n",
            "\u001b[K     |████████████████████████████████| 132 kB 59.5 MB/s \n",
            "\u001b[?25hRequirement already satisfied: requests>=2.19.0 in /usr/local/lib/python3.8/dist-packages (from datasets) (2.23.0)\n",
            "Requirement already satisfied: numpy>=1.17 in /usr/local/lib/python3.8/dist-packages (from datasets) (1.21.6)\n",
            "Requirement already satisfied: pyyaml>=5.1 in /usr/local/lib/python3.8/dist-packages (from datasets) (6.0)\n",
            "Requirement already satisfied: tqdm>=4.62.1 in /usr/local/lib/python3.8/dist-packages (from datasets) (4.64.1)\n",
            "Requirement already satisfied: pyarrow>=6.0.0 in /usr/local/lib/python3.8/dist-packages (from datasets) (9.0.0)\n",
            "Requirement already satisfied: fsspec[http]>=2021.11.1 in /usr/local/lib/python3.8/dist-packages (from datasets) (2022.11.0)\n",
            "Requirement already satisfied: multidict<7.0,>=4.5 in /usr/local/lib/python3.8/dist-packages (from aiohttp->datasets) (6.0.2)\n",
            "Requirement already satisfied: charset-normalizer<3.0,>=2.0 in /usr/local/lib/python3.8/dist-packages (from aiohttp->datasets) (2.1.1)\n",
            "Requirement already satisfied: async-timeout<5.0,>=4.0.0a3 in /usr/local/lib/python3.8/dist-packages (from aiohttp->datasets) (4.0.2)\n",
            "Requirement already satisfied: aiosignal>=1.1.2 in /usr/local/lib/python3.8/dist-packages (from aiohttp->datasets) (1.3.1)\n",
            "Requirement already satisfied: yarl<2.0,>=1.0 in /usr/local/lib/python3.8/dist-packages (from aiohttp->datasets) (1.8.1)\n",
            "Requirement already satisfied: frozenlist>=1.1.1 in /usr/local/lib/python3.8/dist-packages (from aiohttp->datasets) (1.3.3)\n",
            "Requirement already satisfied: attrs>=17.3.0 in /usr/local/lib/python3.8/dist-packages (from aiohttp->datasets) (22.1.0)\n",
            "Requirement already satisfied: typing-extensions>=3.7.4.3 in /usr/local/lib/python3.8/dist-packages (from huggingface-hub<1.0.0,>=0.2.0->datasets) (4.1.1)\n",
            "Requirement already satisfied: filelock in /usr/local/lib/python3.8/dist-packages (from huggingface-hub<1.0.0,>=0.2.0->datasets) (3.8.0)\n",
            "Requirement already satisfied: pyparsing!=3.0.5,>=2.0.2 in /usr/local/lib/python3.8/dist-packages (from packaging->datasets) (3.0.9)\n",
            "Requirement already satisfied: urllib3!=1.25.0,!=1.25.1,<1.26,>=1.21.1 in /usr/local/lib/python3.8/dist-packages (from requests>=2.19.0->datasets) (1.24.3)\n",
            "Requirement already satisfied: chardet<4,>=3.0.2 in /usr/local/lib/python3.8/dist-packages (from requests>=2.19.0->datasets) (3.0.4)\n",
            "Requirement already satisfied: idna<3,>=2.5 in /usr/local/lib/python3.8/dist-packages (from requests>=2.19.0->datasets) (2.10)\n",
            "Requirement already satisfied: certifi>=2017.4.17 in /usr/local/lib/python3.8/dist-packages (from requests>=2.19.0->datasets) (2022.9.24)\n",
            "Collecting urllib3!=1.25.0,!=1.25.1,<1.26,>=1.21.1\n",
            "  Downloading urllib3-1.25.11-py2.py3-none-any.whl (127 kB)\n",
            "\u001b[K     |████████████████████████████████| 127 kB 60.6 MB/s \n",
            "\u001b[?25hRequirement already satisfied: python-dateutil>=2.7.3 in /usr/local/lib/python3.8/dist-packages (from pandas->datasets) (2.8.2)\n",
            "Requirement already satisfied: pytz>=2017.3 in /usr/local/lib/python3.8/dist-packages (from pandas->datasets) (2022.6)\n",
            "Requirement already satisfied: six>=1.5 in /usr/local/lib/python3.8/dist-packages (from python-dateutil>=2.7.3->pandas->datasets) (1.15.0)\n",
            "Installing collected packages: urllib3, xxhash, responses, multiprocess, huggingface-hub, datasets\n",
            "  Attempting uninstall: urllib3\n",
            "    Found existing installation: urllib3 1.24.3\n",
            "    Uninstalling urllib3-1.24.3:\n",
            "      Successfully uninstalled urllib3-1.24.3\n",
            "Successfully installed datasets-2.7.1 huggingface-hub-0.11.1 multiprocess-0.70.14 responses-0.18.0 urllib3-1.25.11 xxhash-3.1.0\n",
            "Looking in indexes: https://pypi.org/simple, https://us-python.pkg.dev/colab-wheels/public/simple/\n",
            "Requirement already satisfied: datasets in /usr/local/lib/python3.8/dist-packages (2.7.1)\n",
            "Requirement already satisfied: requests>=2.19.0 in /usr/local/lib/python3.8/dist-packages (from datasets) (2.23.0)\n",
            "Requirement already satisfied: xxhash in /usr/local/lib/python3.8/dist-packages (from datasets) (3.1.0)\n",
            "Requirement already satisfied: dill<0.3.7 in /usr/local/lib/python3.8/dist-packages (from datasets) (0.3.6)\n",
            "Requirement already satisfied: huggingface-hub<1.0.0,>=0.2.0 in /usr/local/lib/python3.8/dist-packages (from datasets) (0.11.1)\n",
            "Requirement already satisfied: packaging in /usr/local/lib/python3.8/dist-packages (from datasets) (21.3)\n",
            "Requirement already satisfied: fsspec[http]>=2021.11.1 in /usr/local/lib/python3.8/dist-packages (from datasets) (2022.11.0)\n",
            "Requirement already satisfied: pyarrow>=6.0.0 in /usr/local/lib/python3.8/dist-packages (from datasets) (9.0.0)\n",
            "Requirement already satisfied: tqdm>=4.62.1 in /usr/local/lib/python3.8/dist-packages (from datasets) (4.64.1)\n",
            "Requirement already satisfied: aiohttp in /usr/local/lib/python3.8/dist-packages (from datasets) (3.8.3)\n",
            "Requirement already satisfied: responses<0.19 in /usr/local/lib/python3.8/dist-packages (from datasets) (0.18.0)\n",
            "Requirement already satisfied: multiprocess in /usr/local/lib/python3.8/dist-packages (from datasets) (0.70.14)\n",
            "Requirement already satisfied: pyyaml>=5.1 in /usr/local/lib/python3.8/dist-packages (from datasets) (6.0)\n",
            "Requirement already satisfied: pandas in /usr/local/lib/python3.8/dist-packages (from datasets) (1.3.5)\n",
            "Requirement already satisfied: numpy>=1.17 in /usr/local/lib/python3.8/dist-packages (from datasets) (1.21.6)\n",
            "Requirement already satisfied: charset-normalizer<3.0,>=2.0 in /usr/local/lib/python3.8/dist-packages (from aiohttp->datasets) (2.1.1)\n",
            "Requirement already satisfied: async-timeout<5.0,>=4.0.0a3 in /usr/local/lib/python3.8/dist-packages (from aiohttp->datasets) (4.0.2)\n",
            "Requirement already satisfied: multidict<7.0,>=4.5 in /usr/local/lib/python3.8/dist-packages (from aiohttp->datasets) (6.0.2)\n",
            "Requirement already satisfied: attrs>=17.3.0 in /usr/local/lib/python3.8/dist-packages (from aiohttp->datasets) (22.1.0)\n",
            "Requirement already satisfied: aiosignal>=1.1.2 in /usr/local/lib/python3.8/dist-packages (from aiohttp->datasets) (1.3.1)\n",
            "Requirement already satisfied: frozenlist>=1.1.1 in /usr/local/lib/python3.8/dist-packages (from aiohttp->datasets) (1.3.3)\n",
            "Requirement already satisfied: yarl<2.0,>=1.0 in /usr/local/lib/python3.8/dist-packages (from aiohttp->datasets) (1.8.1)\n",
            "Requirement already satisfied: typing-extensions>=3.7.4.3 in /usr/local/lib/python3.8/dist-packages (from huggingface-hub<1.0.0,>=0.2.0->datasets) (4.1.1)\n",
            "Requirement already satisfied: filelock in /usr/local/lib/python3.8/dist-packages (from huggingface-hub<1.0.0,>=0.2.0->datasets) (3.8.0)\n",
            "Requirement already satisfied: pyparsing!=3.0.5,>=2.0.2 in /usr/local/lib/python3.8/dist-packages (from packaging->datasets) (3.0.9)\n",
            "Requirement already satisfied: urllib3!=1.25.0,!=1.25.1,<1.26,>=1.21.1 in /usr/local/lib/python3.8/dist-packages (from requests>=2.19.0->datasets) (1.25.11)\n",
            "Requirement already satisfied: idna<3,>=2.5 in /usr/local/lib/python3.8/dist-packages (from requests>=2.19.0->datasets) (2.10)\n",
            "Requirement already satisfied: certifi>=2017.4.17 in /usr/local/lib/python3.8/dist-packages (from requests>=2.19.0->datasets) (2022.9.24)\n",
            "Requirement already satisfied: chardet<4,>=3.0.2 in /usr/local/lib/python3.8/dist-packages (from requests>=2.19.0->datasets) (3.0.4)\n",
            "Requirement already satisfied: pytz>=2017.3 in /usr/local/lib/python3.8/dist-packages (from pandas->datasets) (2022.6)\n",
            "Requirement already satisfied: python-dateutil>=2.7.3 in /usr/local/lib/python3.8/dist-packages (from pandas->datasets) (2.8.2)\n",
            "Requirement already satisfied: six>=1.5 in /usr/local/lib/python3.8/dist-packages (from python-dateutil>=2.7.3->pandas->datasets) (1.15.0)\n"
          ]
        },
        {
          "output_type": "stream",
          "name": "stderr",
          "text": [
            "[nltk_data] Downloading package omw-1.4 to /root/nltk_data...\n",
            "[nltk_data] Downloading package wordnet to /root/nltk_data...\n"
          ]
        },
        {
          "output_type": "execute_result",
          "data": {
            "text/plain": [
              "True"
            ]
          },
          "metadata": {},
          "execution_count": 1
        }
      ]
    },
    {
      "cell_type": "markdown",
      "source": [
        "### Build Dataset"
      ],
      "metadata": {
        "id": "GNKukLHfxJ-4"
      }
    },
    {
      "cell_type": "markdown",
      "source": [
        "Find the K=300 most popular words with antonyms in the bookcorpus dataset.\n",
        "\n",
        "Consists of 300 adjectives."
      ],
      "metadata": {
        "id": "6YD8DjIM2GEa"
      }
    },
    {
      "cell_type": "code",
      "execution_count": null,
      "metadata": {
        "id": "243iH8ydwsse",
        "colab": {
          "base_uri": "https://localhost:8080/"
        },
        "outputId": "72235765-5d26-4da8-c3be-bcfd3e1157bf"
      },
      "outputs": [
        {
          "output_type": "execute_result",
          "data": {
            "text/plain": [
              "'\\nverb_antonyms = {}\\n# if synset is verb\\nfor i in wn.all_synsets(pos=\"v\"): \\n    for j in i.lemmas():\\n          # If adj has antonym\\n          if j.antonyms(): \\n              verb_antonyms[j.name().replace(\"_\", \" \")] =  j.antonyms()[0].name().replace(\"_\", \" \")\\n'"
            ],
            "application/vnd.google.colaboratory.intrinsic+json": {
              "type": "string"
            }
          },
          "metadata": {},
          "execution_count": 2
        }
      ],
      "source": [
        "from nltk.corpus import wordnet as wn\n",
        "\n",
        "'''\n",
        "Given N words and their corresponding antonyms,\n",
        "the dictionaries are each of length 2N pairs.\n",
        "'''\n",
        "# key: word, value: antonym | synonym\n",
        "adj_antonyms, adj_synonyms = {}, {}\n",
        "for i in wn.all_synsets():\n",
        "    # Ref: https://wordnet.princeton.edu/documentation/wndb5wn\n",
        "    # If synset is adj or satelite-adj. kwarg doesn't support lists...\n",
        "    if i.pos() in [\"a\", \"s\"]:\n",
        "      synonyms_list = []\n",
        "      for j in i.lemmas():\n",
        "          # If adj has antonym AND is not already in the dict\n",
        "          if j.antonyms(): \n",
        "              adj_antonyms[j.name().replace(\"_\", \" \")] =  j.antonyms()[0].name().replace(\"_\", \" \")\n",
        "          synonyms_list.append(j.name().replace(\"_\", \" \"))\n",
        "\n",
        "      word  = i.name().split('.')[0].replace(\"_\", \" \")\n",
        "      adj_synonyms[word] = synonyms_list\n",
        "'''\n",
        "verb_antonyms = {}\n",
        "# if synset is verb\n",
        "for i in wn.all_synsets(pos=\"v\"): \n",
        "    for j in i.lemmas():\n",
        "          # If adj has antonym\n",
        "          if j.antonyms(): \n",
        "              verb_antonyms[j.name().replace(\"_\", \" \")] =  j.antonyms()[0].name().replace(\"_\", \" \")\n",
        "'''"
      ]
    },
    {
      "cell_type": "code",
      "source": [
        "# Load HuggingFace\n",
        "# Run once\n",
        "raw = pd.read_csv(\"cloze_test_val__winter2018-cloze_test_ALL_val - 1 - 1.csv\")\n",
        "sentences = raw.iloc[:, 1:5].stack().tolist()\n",
        "sentences = [s.lower() for s in sentences]\n",
        "\n",
        "test_raw = pd.read_csv(\"cloze_test_test__winter2018-cloze_test_ALL_test - 1.csv\")\n",
        "test_sentences = test_raw.iloc[:, 1:5].stack().tolist()\n",
        "test_sentences = [s.lower() for s in test_sentences]\n",
        "test_sentences = [s.lower() for s in test_sentences]"
      ],
      "metadata": {
        "id": "Sm86unH0qHQJ"
      },
      "execution_count": null,
      "outputs": []
    },
    {
      "cell_type": "code",
      "source": [
        "'''\n",
        "Count the frequency of adjectives and verbs in the dataset\n",
        "'''\n",
        "verb_counter, adj_counter = {}, {}\n",
        "# O(N^2)\n",
        "for s in sentences:\n",
        "  for adj in adj_antonyms.keys():\n",
        "    count = re.split(\"\\W+\", s.lower()).count(adj)\n",
        "    adj_counter[adj] = \\\n",
        "         count if adj not in adj_counter.keys() \\\n",
        "         else adj_counter[adj] + count\n",
        "\n",
        "adjs_df = pd.DataFrame(sorted(adj_counter.items(), key=lambda item: item[1]), \n",
        "                      columns=[\"adjectives\", \"a_count\"])\n",
        "# sanity check\n",
        "print(adjs_df.tail())\n",
        "\n",
        "adjs = adjs_df[\"adjectives\"].tolist()"
      ],
      "metadata": {
        "id": "4zgPQkt54yva",
        "colab": {
          "base_uri": "https://localhost:8080/"
        },
        "outputId": "1135a90d-ebbc-4c8e-91a7-4a364915afe0"
      },
      "execution_count": null,
      "outputs": [
        {
          "output_type": "stream",
          "name": "stdout",
          "text": [
            "     adjectives  a_count\n",
            "3376        all      223\n",
            "3377     wanted      261\n",
            "3378         up      266\n",
            "3379        out      287\n",
            "3380         on      470\n"
          ]
        }
      ]
    },
    {
      "cell_type": "code",
      "source": [
        "K = 300\n",
        "# Get 1 text/sentence for each word and replace it with its antonym\n",
        "def get_texts(dset, limit):\n",
        "  antonym_texts, synonym_texts, orig_txts = [], [], []\n",
        "\n",
        "  for curr_text in tqdm(dset):\n",
        "    if len(synonym_texts) == limit:\n",
        "          return orig_txts, antonym_texts, synonym_texts\n",
        "    for word in adjs:\n",
        "      if word not in (adj_antonyms.keys() and adj_synonyms.keys()):\n",
        "          continue\n",
        "      if word in re.split(\"\\W+\", curr_text.lower()):\n",
        "          string=r'\\b'+word+r'\\b' # \\b - start and end of the  word\n",
        "          starred_txt = re.sub(string, word+\"*\", curr_text)\n",
        "          orig_txts.append(\"\\\"\" + starred_txt + \"\\\"\")\n",
        "          antonym_texts.append(re.sub(string, adj_antonyms[word], curr_text))\n",
        "          synonym_texts.append(re.sub(string, adj_synonyms[word][-1], curr_text))\n",
        "          break\n",
        "  \n",
        "\n",
        "# Assign random label to correct answer\n",
        "def make_choices(antonym_texts, synonym_texts, limit):\n",
        "  n, p = 1, 0.5 # Bernoulli\n",
        "  is_A_list = np.random.binomial(n, p, size=limit)\n",
        "\n",
        "  correct_list, antonym_txts_full, synonym_txts_full = [], [], []\n",
        "  for i, is_A in enumerate(is_A_list):\n",
        "      correct = \" A. \" if is_A else \" B. \"\n",
        "      incorrect = \" B. \" if is_A else \" A. \"\n",
        "      antonym_txts_full.append(correct + \"\\\"\" + antonym_texts[i] + \"\\\"\")\n",
        "      synonym_txts_full.append(incorrect + \"\\\"\" + synonym_texts[i] + \"\\\"\")\n",
        "      correct_list.append(correct.rstrip(\". \"))\n",
        "\n",
        "  return correct_list, antonym_txts_full, synonym_txts_full\n",
        "\n",
        "  # Combine multiple choices in a single question item\n",
        "def make_questions(orig_txts, antonym_txts_full, synonym_txts_full):\n",
        "  prompts = []\n",
        "  for i in range(len(orig_txts)):\n",
        "    a_txt = antonym_txts_full[i]\n",
        "    s_txt = synonym_txts_full[i]\n",
        "    if a_txt.startswith(\" A. \"):\n",
        "        first_txt = a_txt\n",
        "        second_txt = s_txt\n",
        "    else:\n",
        "        first_txt = s_txt\n",
        "        second_txt = a_txt\n",
        "    prompts.append(orig_txts[i] + \"\\n\" + first_txt + \"\\n\" + second_txt + \"\\n\")\n",
        "  return prompts\n",
        "\n",
        "def make_final_prompts(instruction_txt, body):\n",
        "    return [instruction_txt + \"Input: \" + q + \"Output:\" for q in body]\n",
        "\n",
        "def make_examples(N, dset):\n",
        "  '''\n",
        "  Creates N examples for prompting using a dataset\n",
        "  '''\n",
        "  header = \"Replace the adjective marked with \\\"*\\\" with its opposite meaning.\\n\\n\"\n",
        "  instructions = header\n",
        "  inst_orig, inst_anto, inst_syno = get_texts(dset, N)\n",
        "  inst_correct, inst_anto_full, inst_syno_full = make_choices(inst_anto, inst_syno, N)\n",
        "  questions = make_questions(inst_orig, inst_anto_full, inst_syno_full)\n",
        "  for i in range(N):\n",
        "    instructions += \"Input: \" + questions[i] + \"Output:\" + inst_correct[i] + \"\\n\\n\"\n",
        "  return instructions"
      ],
      "metadata": {
        "id": "TTLj2G0KD-b7"
      },
      "execution_count": null,
      "outputs": []
    },
    {
      "cell_type": "markdown",
      "source": [
        "### Produce Dataset files"
      ],
      "metadata": {
        "id": "JNcsbFHD2iTT"
      }
    },
    {
      "cell_type": "code",
      "source": [
        "def get_dset_csv(N_list):\n",
        "  orig, anto, syno = get_texts(sentences, K)\n",
        "  correct_list, anto_full, syno_full = make_choices(anto, syno, K)\n",
        "  questions = make_questions(orig, anto_full, syno_full)\n",
        "  assert len(anto) == K\n",
        "  for N in N_list:\n",
        "    instructs = make_examples(N, test_sentences)\n",
        "    final_prompts = make_final_prompts(instructs, questions)\n",
        "    corr_idxs = [0 if c == \" A\" else 1 for c in correct_list]\n",
        "    # check if correct idxs is not all 0 or 1\n",
        "    assert corr_idxs.count(0) != len(corr_idxs)\n",
        "    dat = {\"prompt\" : final_prompts, \"classes\" : [[\" A.\", \" B.\"] for i in range(len(corr_idxs))], \"answer_index\": corr_idxs}\n",
        "    dset = pd.DataFrame(data=dat)\n",
        "    dset.to_csv(\"vanilla_prompts_%s.csv\"%N)\n",
        "\n",
        "get_dset_csv([0, 1, 2, 10])\n"
      ],
      "metadata": {
        "colab": {
          "base_uri": "https://localhost:8080/",
          "referenced_widgets": [
            "e3276ce7ab154341a6e0ad129fd3137e",
            "69c1661dbe88445cbd7fcb3e16dd389c",
            "8375a27a9c3f45dda54eea4b715233a1",
            "4adb265199494dd7bd8e0fb596490d1f",
            "927ab44d22a7463aba11b86430fe63fb",
            "07f11f4bd7e343d2be72e5026c728f6a",
            "ec331dbcabeb4c2999a87f57049e8982",
            "e37aadbc53dd4fc1bd3b8c820ff84e53",
            "34147121bf064818a3e461035b1db90e",
            "5ddcfffe85e24628849b877b928866c7",
            "941438cf59ae4831b52b9363d620daed",
            "1883fff8c5be4e6e94d4953c85ffff47",
            "f9b517c328884a55bf59c03c7cda434d",
            "a8c44a3a79b943ce950aeb8ca2471b9c",
            "63e765a82b2e409586d237b24532895e",
            "18b5a5b8d3a449049c5d16e7765c97d9",
            "a51e7d33b2e04c439af7a5c62fd1b4d5",
            "590f22d6997f4856b9574b772e78a484",
            "5ba9bb7def3348df8674592ef4ba122b",
            "e43684534c684d0392dd34e16cd8cec1",
            "fe0666380902449f9d8020f1adc89224",
            "d8b311ff1e3240758dfdea631f3125fc",
            "73141c7a3b5d45459ffa15c47babfd2d",
            "c136d33c846c4dbcaf5aeeedeeadfc8d",
            "712b9760722f493889fe6483a009e0c8",
            "7f78ec4b369a442da4368c8fb5bdab9e",
            "fb221619d3704163aaabff73f9e72aa4",
            "424ef16788ba41578eb460fbf010502b",
            "e88b96e87d0e4c16ae2c67bcbdc353f3",
            "0c3857b6df9b4f76989cf6f7af12649d",
            "c4a8a2023e3240a397d17077595cc9c3",
            "c2584b9885e4427eb795d8668eef7858",
            "d1d12dae1f464a85983682d3dc73f2ac",
            "aec0c71caabd4bd9925c54a05102d206",
            "e5c934c47d0143df84f7e667b925109d",
            "cdac6aa7ff8847aaa3b7cc0754dc1016",
            "2812426b481d4394a584ff18b60da7ad",
            "d720e5e912e14a62899c5cb76e435383",
            "015aad9ff7d04eddb66cb59596c6fcf2",
            "6ce82f6985bd42ffb0c486ed708c8610",
            "b15b59c4903f4f5280bed31cdeb62b3f",
            "eab609b4e1ea466aa64be0d6a26319e7",
            "998a88c8695c409fb302a4a15dd2fd8a",
            "e3593aac57704b768d7fa6e250fa0639",
            "6203b1bde62444838387bcad6f15d2ff",
            "061df2136cfb47fdbca8bdee01bf00de",
            "99ddf563519043aebadad247547a621f",
            "23cef139bbdd44488dbb3f657a97357d",
            "8bb11899332f40d3b396952f109773a1",
            "ac03c3e168ce490f8559018d124c84c6",
            "6f5caa1bdcff4d75bc96b352db8e3d86",
            "467a07ea94c4426ba15f27673e53e90b",
            "28af5b7606c5465bae656392a0c0977b",
            "cefdf725f33b4a6bb2ca2d155317ad51",
            "49d3119a385d47998a9aee8a198d05dd"
          ]
        },
        "id": "hRRIWzcMXTcs",
        "outputId": "a8b6fa0f-0589-4e2d-c440-1db289080e2c"
      },
      "execution_count": null,
      "outputs": [
        {
          "output_type": "display_data",
          "data": {
            "text/plain": [
              "  0%|          | 0/6284 [00:00<?, ?it/s]"
            ],
            "application/vnd.jupyter.widget-view+json": {
              "version_major": 2,
              "version_minor": 0,
              "model_id": "e3276ce7ab154341a6e0ad129fd3137e"
            }
          },
          "metadata": {}
        },
        {
          "output_type": "display_data",
          "data": {
            "text/plain": [
              "  0%|          | 0/6284 [00:00<?, ?it/s]"
            ],
            "application/vnd.jupyter.widget-view+json": {
              "version_major": 2,
              "version_minor": 0,
              "model_id": "1883fff8c5be4e6e94d4953c85ffff47"
            }
          },
          "metadata": {}
        },
        {
          "output_type": "display_data",
          "data": {
            "text/plain": [
              "  0%|          | 0/6284 [00:00<?, ?it/s]"
            ],
            "application/vnd.jupyter.widget-view+json": {
              "version_major": 2,
              "version_minor": 0,
              "model_id": "73141c7a3b5d45459ffa15c47babfd2d"
            }
          },
          "metadata": {}
        },
        {
          "output_type": "display_data",
          "data": {
            "text/plain": [
              "  0%|          | 0/6284 [00:00<?, ?it/s]"
            ],
            "application/vnd.jupyter.widget-view+json": {
              "version_major": 2,
              "version_minor": 0,
              "model_id": "aec0c71caabd4bd9925c54a05102d206"
            }
          },
          "metadata": {}
        },
        {
          "output_type": "display_data",
          "data": {
            "text/plain": [
              "  0%|          | 0/6284 [00:00<?, ?it/s]"
            ],
            "application/vnd.jupyter.widget-view+json": {
              "version_major": 2,
              "version_minor": 0,
              "model_id": "6203b1bde62444838387bcad6f15d2ff"
            }
          },
          "metadata": {}
        }
      ]
    },
    {
      "cell_type": "markdown",
      "source": [
        "### Examples"
      ],
      "metadata": {
        "id": "EWxXGMv4Ysg5"
      }
    },
    {
      "cell_type": "code",
      "source": [
        "# Very few words dominate frequency (Long tailed distribution)\n",
        "adjs_df.hist(bins=int(len(adjs_df)/10))"
      ],
      "metadata": {
        "colab": {
          "base_uri": "https://localhost:8080/",
          "height": 316
        },
        "id": "jQQOpi0LyK1I",
        "outputId": "069ed987-8bc7-4c1d-c8eb-9235efbecd05"
      },
      "execution_count": null,
      "outputs": [
        {
          "output_type": "execute_result",
          "data": {
            "text/plain": [
              "array([[<matplotlib.axes._subplots.AxesSubplot object at 0x7f326fb78c10>]],\n",
              "      dtype=object)"
            ]
          },
          "metadata": {},
          "execution_count": 25
        },
        {
          "output_type": "display_data",
          "data": {
            "text/plain": [
              "<Figure size 432x288 with 1 Axes>"
            ],
            "image/png": "[encoded data removed]"
          },
          "metadata": {
            "needs_background": "light"
          }
        }
      ]
    },
    {
      "cell_type": "code",
      "source": [
        "'''\n",
        "We want one example per word, so frequency = 1\n",
        "'''\n",
        "'''min_freq, max_freq = 1, 1 \n",
        "top_adjs = adjs_df[ (adjs_df[\"a_count\"] >= min_freq) & (adjs_df[\"a_count\"] <= max_freq) ][\"adjectives\"][:].tolist()\n",
        "print(len(top_adjs))'''"
      ],
      "metadata": {
        "id": "Sc40zjXGwazh"
      },
      "execution_count": null,
      "outputs": []
    },
    {
      "cell_type": "code",
      "source": [
        "'''\n",
        "Visualize antonym\n",
        "'''\n",
        "\n",
        "red = lambda x: f'\\x1b[31m{x}\\x1b[0m'\n",
        "\n",
        "def highlight_diff(text1, text2, format_func):\n",
        "    shared_toks = set(text1.split(' ')) & set(text2.split(' '))\n",
        "    return ' '.join([format_func(tok) if tok not in shared_toks else tok for tok in text1.split(' ') ])\n",
        "\n",
        "print(highlight_diff(\"\\\"\"+anto[0]+\"\\\"\", orig[0], red))\n",
        "print('\\n')\n",
        "print(orig[0])"
      ],
      "metadata": {
        "id": "Tay8Jp-7xrOo",
        "colab": {
          "base_uri": "https://localhost:8080/"
        },
        "outputId": "8bd28127-b8be-4f75-b2a5-825cf6cfd9d1"
      },
      "execution_count": null,
      "outputs": [
        {
          "output_type": "stream",
          "name": "stdout",
          "text": [
            "\"rick grew up in a \u001b[31muntroubled\u001b[0m household.\"\n",
            "\n",
            "\n",
            "\"rick grew up in a troubled* household.\"\n"
          ]
        }
      ]
    },
    {
      "cell_type": "code",
      "source": [
        "print(final_prompts[-1])"
      ],
      "metadata": {
        "colab": {
          "base_uri": "https://localhost:8080/"
        },
        "id": "zKWoWR2GQH--",
        "outputId": "4e44602a-da1c-40c2-a6c1-6d703ed478af"
      },
      "execution_count": null,
      "outputs": [
        {
          "output_type": "stream",
          "name": "stdout",
          "text": [
            "Replace the adjective marked with \"*\" with its opposite meaning.\n",
            "\n",
            "Input: \"he had been working so hard this past* month.\"\n",
            " A. \"he had been working so hard this present month.\"\n",
            " B. \"he had been working so hard this past month.\"\n",
            "Output: A\n",
            "\n",
            "Input: \"he ordered* tickets for a weekend snowboarding trip.\"\n",
            " A. \"he ordered tickets for a weekend snowboarding trip.\"\n",
            " B. \"he disordered tickets for a weekend snowboarding trip.\"\n",
            "Output: B\n",
            "\n",
            "Input: \"olivia went out* with harry on a date.\"\n",
            " A. \"olivia went out with harry on a date.\"\n",
            " B. \"olivia went safe with harry on a date.\"\n",
            "Output: B\n",
            "\n",
            "Input: \"harry thought the date was going well*.\"\n",
            " A. \"harry thought the date was going well.\"\n",
            " B. \"harry thought the date was going ill.\"\n",
            "Output: B\n",
            "\n",
            "Input: \"olivia thinks he is a complete* jerk and never wants to see him again.\"\n",
            " A. \"olivia thinks he is a consummate jerk and never wants to see him again.\"\n",
            " B. \"olivia thinks he is a incomplete jerk and never wants to see him again.\"\n",
            "Output: B\n",
            "\n",
            "Input: \"i called a couple of friends, but they were busy*.\"\n",
            " A. \"i called a couple of friends, but they were idle.\"\n",
            " B. \"i called a couple of friends, but they were fussy.\"\n",
            "Output: A\n",
            "\n",
            "Input: \"finally, i called my grandson, who came right* over.\"\n",
            " A. \"finally, i called my grandson, who came wrong over.\"\n",
            " B. \"finally, i called my grandson, who came right over.\"\n",
            "Output: A\n",
            "\n",
            "Input: \"he helped me move the bed to the right* spot.\"\n",
            " A. \"he helped me move the bed to the right spot.\"\n",
            " B. \"he helped me move the bed to the wrong spot.\"\n",
            "Output: B\n",
            "\n",
            "Input: \"as a result, he had to find other* work.\"\n",
            " A. \"as a result, he had to find other work.\"\n",
            " B. \"as a result, he had to find same work.\"\n",
            "Output:\n"
          ]
        }
      ]
    },
    {
      "cell_type": "code",
      "source": [],
      "metadata": {
        "id": "PYQweHJkF1en"
      },
      "execution_count": null,
      "outputs": []
    },
    {
      "cell_type": "markdown",
      "source": [
        "## Next Step:\n",
        "\n",
        "Use the new dataset(s) in the Inverse Scaling Competition notebooks. In our paper, we used OPT and the GPT-3 models."
      ],
      "metadata": {
        "id": "d5s35U9R4vOy"
      }
    },
    {
      "cell_type": "markdown",
      "source": [
        "## Chain of Thought Prompting"
      ],
      "metadata": {
        "id": "XhufpgywtJsY"
      }
    },
    {
      "cell_type": "code",
      "source": [
        "chain_instruction_txt = \"Instruction: \\n\\\n",
        "Replace the adjective marked with \\\"*\\\" with its opposite meaning. \\n\\\n",
        "Input: \\\"She is a charismatic* figure.\\\" \\n\\\n",
        " A. \\\"She is a charming figure.\\\" \\n\\\n",
        " B. \\\"She is a repulsive figure.\\\" \\n\\\n",
        "Output: \\n\\\n",
        "The ajective in question is \\\"charismatic\\\". \\\n",
        "The word with the opposite meaning of \\\"charismatic\\\" is \\\"repulsive\\\".\\\n",
        " B.\\\n",
        " \\n\"\n",
        "\n",
        "print(chain_instruction_txt)"
      ],
      "metadata": {
        "colab": {
          "base_uri": "https://localhost:8080/"
        },
        "id": "kAw96WEutJVl",
        "outputId": "5ae92c31-045d-49fd-d948-00db56e7d8f8"
      },
      "execution_count": null,
      "outputs": [
        {
          "output_type": "stream",
          "name": "stdout",
          "text": [
            "Instruction: \n",
            "Replace the adjective marked with \"*\" with its opposite meaning. \n",
            "Input: \"She is a charismatic* figure.\" \n",
            " A. \"She is a charming figure.\" \n",
            " B. \"She is a repulsive figure.\" \n",
            "Output: \n",
            "The ajective in question is \"charismatic\". The word with the opposite meaning of \"charismatic\" is \"repulsive\". B. \n",
            "\n"
          ]
        }
      ]
    },
    {
      "cell_type": "code",
      "source": [
        "# Combine multiple choices in a single question item\n",
        "chain_final_prompts = []\n",
        "for i in range(len(orig_txts)):\n",
        "  a_txt = antonym_txts_full[i]\n",
        "  s_txt = synonym_txts_full[i]\n",
        "  if a_txt.startswith(\" A. \"):\n",
        "      first_txt = a_txt\n",
        "      second_txt = s_txt\n",
        "  else:\n",
        "      first_txt = s_txt\n",
        "      second_txt = a_txt\n",
        "  prompt = chain_instruction_txt + \"\\n\" + orig_txts[i] + \"\\n\" + first_txt + \"\\n\" + second_txt\n",
        "  chain_final_prompts.append(prompt)"
      ],
      "metadata": {
        "id": "OoAu4RR6tf7q"
      },
      "execution_count": null,
      "outputs": []
    },
    {
      "cell_type": "code",
      "source": [
        "chain_dat = {\"prompt\" : chain_final_prompts, \"classes\" : [[\" A.\", \" B.\"] for i in range(len(corr_idxs))], \"answer_index\": corr_idxs}\n",
        "chain_dset = pd.DataFrame(data=chain_dat)\n",
        "\n",
        "print(chain_dset.head())\n",
        "chain_dset.to_csv(\"chain_prompts.csv\")"
      ],
      "metadata": {
        "colab": {
          "base_uri": "https://localhost:8080/"
        },
        "id": "aGm7XV5ktjBJ",
        "outputId": "9cdd7e4d-d9f6-4f54-d095-13e54b8c405f"
      },
      "execution_count": null,
      "outputs": [
        {
          "output_type": "stream",
          "name": "stdout",
          "text": [
            "                                              prompt     classes  answer_index\n",
            "0  Instruction: \\nReplace the adjective marked wi...  [ A.,  B.]             0\n",
            "1  Instruction: \\nReplace the adjective marked wi...  [ A.,  B.]             1\n",
            "2  Instruction: \\nReplace the adjective marked wi...  [ A.,  B.]             1\n",
            "3  Instruction: \\nReplace the adjective marked wi...  [ A.,  B.]             0\n",
            "4  Instruction: \\nReplace the adjective marked wi...  [ A.,  B.]             0\n"
          ]
        }
      ]
    },
    {
      "cell_type": "markdown",
      "source": [
        "#### Appendix: Problem with Verbs\n",
        "\n",
        "The phrase \"Ides of March\" turn into \"Ides of Walk\". We cannot distinguish between (1) nouns with the same word as verbs and (2) verbs used as verbs"
      ],
      "metadata": {
        "id": "pC220wjYxVAL"
      }
    },
    {
      "cell_type": "code",
      "source": [
        "# Dataset for VErbs (problem)\n",
        "\n",
        "for verb in verb_antonyms.keys():\n",
        "    # must match word\n",
        "    count = re.split(\"\\W+\", ds.lower()).count(verb)\n",
        "    # Note else statement is equal to += op\n",
        "    verb_counter[verb] = \\\n",
        "         count if verb not in verb_counter.keys() \\\n",
        "         else verb_counter[verb] + count\n",
        "\n",
        "verbs_df = pd.DataFrame(sorted(verb_counter.items(), key=lambda item: item[1]), \n",
        "                      columns=[\"verbs\", \"v_count\"])\n",
        "\n",
        "top_verbs = verbs_df[ (verbs_df[\"v_count\"] >= min_freq) & (verbs_df[\"v_count\"] <= max_freq) ][\"verbs\"][-K//2:].tolist()\n",
        "\n",
        "\n",
        "for word in tqdm(top_verbs):\n",
        "  for curr_text in corpus_dset[:N][\"text\"]:\n",
        "    if word in re.split(\"\\W+\", curr_text.lower()):\n",
        "      orig_texts.append(curr_text)\n",
        "      # prevents examples from having old definitions\n",
        "      for verb in top_verbs:\n",
        "        string=r'\\b'+verb+r'\\b' # \\b - start and end of the  word\n",
        "        curr_text = re.sub(string, verb_antonyms[verb], curr_text)\n",
        "        \n",
        "      antonym_texts.append(curr_text)\n",
        "      break"
      ],
      "metadata": {
        "id": "1PaMMsenfCh2"
      },
      "execution_count": null,
      "outputs": []
    },
    {
      "cell_type": "markdown",
      "source": [
        "### Turn numpy dumps into txt dumps"
      ],
      "metadata": {
        "id": "h2_Kl1BF01Hu"
      }
    },
    {
      "cell_type": "code",
      "source": [
        "with open(\"cleaned_antonym_txt.txt\", \"w+\") as outfile:\n",
        "  for a in antonym_texts:\n",
        "    outfile.write(f\"{a}\\n\")"
      ],
      "metadata": {
        "id": "g8gzrvyF06xz"
      },
      "execution_count": null,
      "outputs": []
    },
    {
      "cell_type": "markdown",
      "source": [
        "Eval: classification \n",
        "Out: boolean\n",
        "\n",
        "Ex1. Use Vanilla Prompting\n",
        "\n",
        "Ex2. Use Chain of Thought Prompting\n",
        "\n",
        "Using [Chain of Thought Prompting](https://ai.googleblog.com/2022/04/pathways-language-model-palm-scaling-to.html) \\[Chain of Thought in Bold\\]\n",
        "\n",
        "'''\n",
        "Instruction:\n",
        "Replace the adjective marked with \"*\" with its opposite meaning\n",
        "\n",
        "Input: \"She is a charismatic* figure.\" \n",
        "\n",
        "  A. \"She is a charming figure.\"\n",
        "\n",
        "  B. \"She is a repulsive figure.\"\n",
        "\n",
        "Output: \n",
        "**The ajective in question is \"charismatic\". \n",
        "The word with the opposite meaning of \"charismatic\" is \"repulsive\".**\n",
        "B.\n",
        "\n",
        "PROMPT: ...\n",
        "'''"
      ],
      "metadata": {
        "id": "HqVXME7V-tjP"
      }
    },
    {
      "cell_type": "markdown",
      "source": [
        "Dataset Out: .csv file.\n",
        "\n",
        "The columns of the .csv are:\n",
        "\n",
        "      1. `prompt`, a string.\n",
        "      2. `classes`, an ordered list (using valid Python syntax) of the possible answer tokens.\n",
        "\n",
        "         * NOTE: because of the way language model tokenizers typically process text, the class tokens should almost always start with a space and a capital letter, e.g. \" Yes\" and \" No\" rather than \"yes\" and \"no\".\n",
        "          \" A\", \" B\", \" C\", and \" D\". This task format can guide the language model more clearly to put a high probability on valid completions.\n",
        "      3. `answer_index`, an integer specifying which of the class tokens is the correct answer (using zero-indexing)."
      ],
      "metadata": {
        "id": "WrSL1ZopEt-O"
      }
    },
    {
      "cell_type": "code",
      "source": [],
      "metadata": {
        "id": "_ThZUErEEtaJ"
      },
      "execution_count": null,
      "outputs": []
    },
    {
      "cell_type": "code",
      "source": [],
      "metadata": {
        "id": "sNpJSDao-spi"
      },
      "execution_count": null,
      "outputs": []
    },
    {
      "cell_type": "markdown",
      "source": [
        "# Deprecated Code"
      ],
      "metadata": {
        "id": "RwgnF40O-oQL"
      }
    },
    {
      "cell_type": "markdown",
      "source": [
        "## Fine-tune on Models"
      ],
      "metadata": {
        "id": "4yXqJrtlxMUR"
      }
    },
    {
      "cell_type": "code",
      "source": [
        "# Load exported data\n",
        "\n",
        "file_id1 = \"12MOwMjTpejUsq4LFMqvzilH7Ec7aWssK\"\n",
        "file_id2 = \"1zfUPxs5vOdLjVhGBRk9UXPlAIQt9d3iQ\"\n",
        "file_id3 = \"1n-IWpjxi_eVRFAXj79DReBMHZZg8F0Sc\"\n",
        "file_id4 = \"1sq1SZ7iOmDobHmoFpHVVISAbZn2sDH27\"\n",
        "file_id5 = \"1E23mzLrKl59sUhABixmAAAdKFYMO40jw\"\n",
        "\n",
        "!gdown \"$file_id1\"\n",
        "!gdown \"$file_id2\"\n",
        "!gdown \"$file_id3\"\n",
        "!gdown \"$file_id4\"\n",
        "!gdown \"$file_id5\"\n",
        "\n",
        "antonym_texts = np.load(\"cleaned_antonym_txt.npy\")\n",
        "orig_texts = np.load(\"cleaned_orig_txt.npy\")"
      ],
      "metadata": {
        "colab": {
          "base_uri": "https://localhost:8080/"
        },
        "id": "j4xS7SsBYHmQ",
        "outputId": "5cd19e95-6ed6-48fa-88b9-faaa6ff86db2"
      },
      "execution_count": null,
      "outputs": [
        {
          "output_type": "stream",
          "name": "stdout",
          "text": [
            "Downloading...\n",
            "From: https://drive.google.com/uc?id=12MOwMjTpejUsq4LFMqvzilH7Ec7aWssK\n",
            "To: /content/cleaned_orig_txt.npy\n",
            "100% 457k/457k [00:00<00:00, 80.1MB/s]\n",
            "Downloading...\n",
            "From: https://drive.google.com/uc?id=1zfUPxs5vOdLjVhGBRk9UXPlAIQt9d3iQ\n",
            "To: /content/cleaned_antonym_txt.npy\n",
            "100% 460k/460k [00:00<00:00, 148MB/s]\n",
            "Downloading...\n",
            "From: https://drive.google.com/uc?id=1n-IWpjxi_eVRFAXj79DReBMHZZg8F0Sc\n",
            "To: /content/run_clm.py\n",
            "100% 25.0k/25.0k [00:00<00:00, 33.1MB/s]\n",
            "Downloading...\n",
            "From: https://drive.google.com/uc?id=1sq1SZ7iOmDobHmoFpHVVISAbZn2sDH27\n",
            "To: /content/run_clm_no_trainer.py\n",
            "100% 27.9k/27.9k [00:00<00:00, 43.4MB/s]\n",
            "Downloading...\n",
            "From: https://drive.google.com/uc?id=1E23mzLrKl59sUhABixmAAAdKFYMO40jw\n",
            "To: /content/cleaned_antonym_txt.txt\n",
            "100% 32.1k/32.1k [00:00<00:00, 42.9MB/s]\n"
          ]
        }
      ]
    },
    {
      "cell_type": "code",
      "source": [
        "gpt2_model_path = \"gpt2-antonyms\"\n",
        "gpt_model_path = \"gpt-antonyms\""
      ],
      "metadata": {
        "id": "qeJ7EKeKkkHS"
      },
      "execution_count": null,
      "outputs": []
    },
    {
      "cell_type": "code",
      "source": [
        "# finetune GPT2\n",
        "!python run_clm.py \\\n",
        "  --model_name_or_path gpt2 \\\n",
        "  --train_file cleaned_antonym_txt.txt \\\n",
        "  --per_device_train_batch_size 2 \\\n",
        "  --per_device_eval_batch_size 2 \\\n",
        "  --do_train \\\n",
        "  --overwrite_output_dir \\\n",
        "  --output_dir \"$gpt2_model_path\""
      ],
      "metadata": {
        "id": "Gity8jIq0SIW"
      },
      "execution_count": null,
      "outputs": []
    },
    {
      "cell_type": "code",
      "source": [
        "# finetune GPT\n",
        "\n",
        "!python run_clm.py \\\n",
        "  --model_name_or_path openai-gpt \\\n",
        "  --train_file cleaned_antonym_txt.txt \\\n",
        "  --per_device_train_batch_size 2 \\\n",
        "  --per_device_eval_batch_size 2 \\\n",
        "  --do_train \\\n",
        "  --overwrite_output_dir \\\n",
        "  --output_dir \"$gpt_model_path\""
      ],
      "metadata": {
        "id": "JgHziBC1RaH5"
      },
      "execution_count": null,
      "outputs": []
    },
    {
      "cell_type": "code",
      "source": [
        "'''\n",
        "m1 = orig model (i.e. pretrained)\n",
        "m2 = finetuned model\n",
        "'''\n",
        "# GPT\n",
        "## m1\n",
        "gpt_m1_tokenizer = OpenAIGPTTokenizer.from_pretrained(\"openai-gpt\")\n",
        "gpt_m1 = OpenAIGPTModel.from_pretrained(\"openai-gpt\")\n",
        "## m2\n",
        "gpt_m2_tokenizer = OpenAIGPTTokenizer.from_pretrained(gpt_model_path)\n",
        "gpt_m2 = OpenAIGPTModel.from_pretrained(gpt_model_path)\n",
        "\n",
        "# GPT2\n",
        "## m1\n",
        "gpt2_m1_tokenizer = GPT2Tokenizer.from_pretrained(\"gpt2\")\n",
        "gpt2_m1 = GPT2Model.from_pretrained(\"gpt2\")\n",
        "## m2\n",
        "gpt2_m2_tokenizer = GPT2Tokenizer.from_pretrained(gpt2_model_path)\n",
        "gpt2_m2 = GPT2Model.from_pretrained(gpt2_model_path)"
      ],
      "metadata": {
        "id": "CHaqNscf7srZ",
        "colab": {
          "base_uri": "https://localhost:8080/"
        },
        "outputId": "2dda3d58-4c99-4572-c7e4-8860be9ed2ca"
      },
      "execution_count": null,
      "outputs": [
        {
          "output_type": "stream",
          "name": "stderr",
          "text": [
            "Some weights of the model checkpoint at drive/MyDrive/finetuned-models-mlss/gpt-antonyms were not used when initializing OpenAIGPTModel: ['lm_head.weight']\n",
            "- This IS expected if you are initializing OpenAIGPTModel from the checkpoint of a model trained on another task or with another architecture (e.g. initializing a BertForSequenceClassification model from a BertForPreTraining model).\n",
            "- This IS NOT expected if you are initializing OpenAIGPTModel from the checkpoint of a model that you expect to be exactly identical (initializing a BertForSequenceClassification model from a BertForSequenceClassification model).\n",
            "Some weights of the model checkpoint at drive/MyDrive/finetuned-models-mlss/gpt2-antonyms were not used when initializing GPT2Model: ['lm_head.weight']\n",
            "- This IS expected if you are initializing GPT2Model from the checkpoint of a model trained on another task or with another architecture (e.g. initializing a BertForSequenceClassification model from a BertForPreTraining model).\n",
            "- This IS NOT expected if you are initializing GPT2Model from the checkpoint of a model that you expect to be exactly identical (initializing a BertForSequenceClassification model from a BertForSequenceClassification model).\n"
          ]
        }
      ]
    },
    {
      "cell_type": "markdown",
      "source": [
        "## Evaluate Model's Adaptability to new Definition\n",
        "\n",
        "### Define Score Function"
      ],
      "metadata": {
        "id": "qGJIZP3axPmo"
      }
    },
    {
      "cell_type": "code",
      "source": [
        "import torch\n",
        "\n",
        "def score(tokenizer, model, text1, text2, model_type):\n",
        "  \"\"\"\n",
        "  Params:\n",
        "  - model_type is either \"gpt\" or \"gpt2\"\n",
        "  \"\"\"\n",
        "  if model_type not in [\"gpt\", \"gpt2\"]:\n",
        "    print(\"Error: model_type is either 'gpt' or 'gpt2'\")\n",
        "    return\n",
        "  \n",
        "  idx1 = tokenizer.encode(text1)\n",
        "  idx2 = tokenizer.encode(text2)\n",
        "  \n",
        "  vec1, vec2 = None, None\n",
        "  if model_type == \"gpt\":\n",
        "    vec1 = model.tokens_embed.weight[idx1, :]\n",
        "    vec2 = model.tokens_embed.weight[idx2, :]\n",
        "  if model_type == \"gpt2\":\n",
        "    vec1 = model.wte.weight[idx1, :]\n",
        "    vec2 = model.wte.weight[idx2, :]\n",
        "  \n",
        "  # sentences can have diff lengths\n",
        "  return torch.norm(vec1.mean(dim=0) - vec2.mean(dim=0), dim=-1)\n",
        "\n",
        "def delta_score(m1_scores, m2_scores):\n",
        "  return np.array(m1_scores) - np.array(m2_scores)\n",
        "\n",
        "K=300\n",
        "'''\n",
        "Compare models\n",
        "Calc delta score. Higher means better.\n",
        "'''\n",
        "\n",
        "# GPT\n",
        "# vector of scores\n",
        "gpt_m1_scores = [score(gpt_m1_tokenizer, gpt_m1, antonym_texts[i], orig_texts[i], \"gpt\").detach().numpy() for i in range(K)]\n",
        "gpt_m2_scores = [score(gpt_m2_tokenizer, gpt_m2, antonym_texts[i], orig_texts[i], \"gpt\").detach().numpy() for i in range(K)]\n",
        "gpt_delta_score = delta_score(gpt_m1_scores, gpt_m2_scores)\n",
        "\n",
        "# GPT2\n",
        "\n",
        "gpt2_m1_scores = [score(gpt2_m1_tokenizer, gpt2_m1, antonym_texts[i], orig_texts[i], \"gpt2\").detach().numpy() for i in range(K)]\n",
        "gpt2_m2_scores = [score(gpt2_m2_tokenizer, gpt2_m2, antonym_texts[i], orig_texts[i], \"gpt2\").detach().numpy() for i in range(K)]\n",
        "gpt2_delta_score = delta_score(gpt2_m1_scores, gpt2_m2_scores)"
      ],
      "metadata": {
        "id": "p_T5sKXONC79"
      },
      "execution_count": null,
      "outputs": []
    },
    {
      "cell_type": "code",
      "source": [
        "# average delta scores\n",
        "f\"gpt delta mean: {gpt_delta_score.mean()}\", f\"gpt2 delta mean: {gpt2_delta_score.mean()}\""
      ],
      "metadata": {
        "colab": {
          "base_uri": "https://localhost:8080/"
        },
        "id": "RPjT-s92v6Ek",
        "outputId": "f21b307e-0292-4637-e99e-cca275fbc815"
      },
      "execution_count": null,
      "outputs": [
        {
          "output_type": "execute_result",
          "data": {
            "text/plain": [
              "('gpt delta mean: 2.1652516807080247e-05',\n",
              " 'gpt2 delta mean: 2.0563005818985403e-05')"
            ]
          },
          "metadata": {},
          "execution_count": 46
        }
      ]
    },
    {
      "cell_type": "markdown",
      "source": [
        "### Plots"
      ],
      "metadata": {
        "id": "P4dABCkixobq"
      }
    },
    {
      "cell_type": "code",
      "source": [
        "num_params = [gpt_m1.num_parameters(), gpt2_m1.num_parameters()]\n",
        "score_means = [gpt_delta_score.mean(), gpt2_delta_score.mean()]\n",
        "annot = ['GPT', 'GPT-2']\n",
        "\n",
        "fig, ax = plt.subplots()\n",
        "\n",
        "ax.plot(\n",
        "    num_params, \n",
        "    score_means,\n",
        "    '-'\n",
        ")\n",
        "plt.title(\"Delta Score (M1 - M2) Across Model Sizes\")\n",
        "plt.xlabel(\"#parameters\")\n",
        "plt.ylabel(\"average delta score\")\n",
        "\n",
        "for i in range(len(num_params)):\n",
        "  ax.annotate(annot[i], (num_params[i], score_means[i]))"
      ],
      "metadata": {
        "colab": {
          "base_uri": "https://localhost:8080/",
          "height": 295
        },
        "id": "Z3VQCpo_xKxO",
        "outputId": "e653abaf-1987-4b3b-a1e2-6897e16f59cb"
      },
      "execution_count": null,
      "outputs": [
        {
          "output_type": "display_data",
          "data": {
            "text/plain": [
              "<Figure size 432x288 with 1 Axes>"
            ],
            "image/png": "[encoded data removed]"
          },
          "metadata": {
            "needs_background": "light"
          }
        }
      ]
    },
    {
      "cell_type": "code",
      "source": [],
      "metadata": {
        "id": "2qegyyhh03cL"
      },
      "execution_count": null,
      "outputs": []
    }
  ]
}